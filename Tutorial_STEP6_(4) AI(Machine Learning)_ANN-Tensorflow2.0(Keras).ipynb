{
 "cells": [
  {
   "cell_type": "code",
   "execution_count": null,
   "metadata": {},
   "outputs": [],
   "source": [
    "%matplotlib"
   ]
  },
  {
   "cell_type": "code",
   "execution_count": null,
   "metadata": {},
   "outputs": [],
   "source": [
    "%matplotlib inline"
   ]
  },
  {
   "cell_type": "code",
   "execution_count": 3,
   "metadata": {},
   "outputs": [],
   "source": [
    "pd.set_option('display.max_rows',    100)      # DataFrame 데이터 확인 시 최대 표시 행 수\n",
    "pd.set_option('display.max_columns', 100)      # DataFrame 데이터 확인 시 최대 표시 열 수"
   ]
  },
  {
   "cell_type": "markdown",
   "metadata": {},
   "source": [
    "## 라이브러리 import"
   ]
  },
  {
   "cell_type": "code",
   "execution_count": 1,
   "metadata": {},
   "outputs": [],
   "source": [
    "import pandas as pd\n",
    "import numpy as np\n",
    "import matplotlib.pyplot as plt"
   ]
  },
  {
   "cell_type": "code",
   "execution_count": 2,
   "metadata": {},
   "outputs": [],
   "source": [
    "import tensorflow as tf\n",
    "from tensorflow import keras\n",
    "tf.random.set_seed(777) # 모든 학생들의 학습 효과가 같게 하기 위해 랜덤으로 부여되는 값을 하나로 통일하자는 뜻"
   ]
  },
  {
   "cell_type": "markdown",
   "metadata": {},
   "source": [
    "## 데이터 불러오기"
   ]
  },
  {
   "cell_type": "code",
   "execution_count": 4,
   "metadata": {},
   "outputs": [
    {
     "name": "stdout",
     "output_type": "stream",
     "text": [
      "(256, 5)\n",
      "(64, 5)\n",
      "(256, 2)\n",
      "(64, 2)\n",
      "(320, 5)\n"
     ]
    }
   ],
   "source": [
    "Fold = 5\n",
    "\n",
    "# k-fold 학습/검증 데이터\n",
    "for i in range(Fold):\n",
    "    \n",
    "    path1 = './K_FoldData/Training_Fold%d'%(i+1)\n",
    "    path2 = './K_FoldData/Validation_Fold%d'%(i+1)\n",
    "    c1 = 'Training_Fold%d   = np.array(pd.read_csv(path1, sep=\",\", header=None))'%(i+1)\n",
    "    c2 = 'Validation_Fold%d = np.array(pd.read_csv(path2, sep=\",\", header=None))'%(i+1)\n",
    "    exec(c1)\n",
    "    exec(c2)\n",
    "\n",
    "# K-fold 학습/검증 레이블\n",
    "TrainingFold_Label   = np.array(pd.read_csv('./K_FoldData/TrainingFold_Label_forANN'  , sep=\",\", header=None))\n",
    "ValidationFold_Label = np.array(pd.read_csv('./K_FoldData/ValidationFold_Label_forANN', sep=\",\", header=None))\n",
    "    \n",
    "    \n",
    "# 전체 학습용 데이터\n",
    "Training_All       = np.array(pd.read_csv('./K_FoldData/Training_All', sep = \",\", header = None))\n",
    "Training_All_Label = np.array(pd.read_csv('./K_FoldData/Training_All_Label_forANN', sep = \",\", header = None))\n",
    "\n",
    "print(Training_Fold1.shape)\n",
    "print(Validation_Fold1.shape)\n",
    "print(TrainingFold_Label.shape)\n",
    "print(ValidationFold_Label.shape)\n",
    "print(Training_All.shape)"
   ]
  },
  {
   "cell_type": "markdown",
   "metadata": {},
   "source": [
    "## ANN(Artificial Neural Network) hyperparameter 설정"
   ]
  },
  {
   "cell_type": "code",
   "execution_count": 5,
   "metadata": {},
   "outputs": [],
   "source": [
    "learningRate  = 0.0001\n",
    "noOfNeuron    = 16\n",
    "iteration     = 2000"
   ]
  },
  {
   "cell_type": "markdown",
   "metadata": {},
   "source": [
    "## Keras 기반 ANN 구조(Architecture) 설계"
   ]
  },
  {
   "cell_type": "code",
   "execution_count": 6,
   "metadata": {},
   "outputs": [],
   "source": [
    "def ANN_model(input_data):\n",
    "    model = keras.Sequential()\n",
    "    model.add(keras.layers.Dense(units = noOfNeuron,\n",
    "                                 input_shape = (input_data.shape[1],), activation = 'relu'))    # Input  Layer. input_data.shape[1]로 layer의 차원을 만들어준다\n",
    "    model.add(keras.layers.Dense(units = noOfNeuron,                   activation = 'relu'))    # Hidden Layer 1\n",
    "    model.add(keras.layers.Dense(units = noOfNeuron,                   activation = 'relu'))    # Hidden Layer 2\n",
    "    model.add(keras.layers.Dense(units = 2,                            activation = 'softmax')) # Output Layer\n",
    "    \n",
    "    # 각 줄이 하나의 layer를 지칭한다. \n",
    "    \n",
    "    \n",
    "    model.compile(optimizer= keras.optimizers.Adam(learning_rate = learningRate),\n",
    "                  loss=keras.losses.categorical_crossentropy,\n",
    "                  metrics=['accuracy'])\n",
    "    return model"
   ]
  },
  {
   "cell_type": "markdown",
   "metadata": {},
   "source": [
    "## Keras 기반 NN(Neural Network) 학습 및 평가 방법"
   ]
  },
  {
   "cell_type": "code",
   "execution_count": 7,
   "metadata": {},
   "outputs": [
    {
     "data": {
      "text/plain": [
       "0.546875"
      ]
     },
     "execution_count": 7,
     "metadata": {},
     "output_type": "execute_result"
    }
   ],
   "source": [
    "tf.random.set_seed(777) # tensorflow에서는 random seed를 처음에 한 번만 설정해줘도 되지만, keras의 경우 매번 새로 설정해줘야 한다. \n",
    "\n",
    "Data      = Training_Fold1\n",
    "Data_Val  = Validation_Fold1\n",
    "Label     = TrainingFold_Label\n",
    "Label_Val = ValidationFold_Label\n",
    "\n",
    "model = ANN_model(Data)\n",
    "\n",
    "hist = model.fit(Data, Label, epochs=iteration, verbose = 0)\n",
    "Loss, Accuracy = model.evaluate(Data_Val,  Label_Val, verbose=0)\n",
    "\n",
    "Accuracy"
   ]
  },
  {
   "cell_type": "markdown",
   "metadata": {},
   "source": [
    "## Keras 기반 NN(Neural Network) 학습 및 검증"
   ]
  },
  {
   "cell_type": "code",
   "execution_count": 8,
   "metadata": {
    "scrolled": true
   },
   "outputs": [
    {
     "name": "stdout",
     "output_type": "stream",
     "text": [
      "[Reslut of K-fold Cross Validation] \n",
      "\n",
      "Fold 1: 54.69%\n",
      "Fold 2: 65.62%\n",
      "Fold 3: 48.44%\n",
      "Fold 4: 56.25%\n",
      "Fold 5: 43.75%\n",
      "* Average accuracy : 53.75%\n"
     ]
    }
   ],
   "source": [
    "Label        = TrainingFold_Label\n",
    "Label_Val    = ValidationFold_Label\n",
    "Accuracy_sum = 0\n",
    "\n",
    "print('[Reslut of K-fold Cross Validation] \\n')\n",
    "\n",
    "for i in range(Fold):\n",
    "    tf.random.set_seed(777)\n",
    "    \n",
    "    s1= 'Data     = Training_Fold%d'  %(i+1)\n",
    "    s2= 'Data_Val = Validation_Fold%d'%(i+1)\n",
    "    exec(s1)\n",
    "    exec(s2)\n",
    "    \n",
    "    model = ANN_model(Data)\n",
    "    \n",
    "# train my model\n",
    "    hist = model.fit(Data, Label, epochs=iteration, verbose = 0) ## history. 훈련된 모델을 하나의 변수에 지정\n",
    "    Loss, Accuracy = model.evaluate(Data_Val,  Label_Val, verbose=0)\n",
    "    Accuracy_sum = Accuracy_sum + Accuracy\n",
    "    print('Fold {}: {:.2f}%'.format((i+1), Accuracy*100))\n",
    "\n",
    "print('* Average accuracy : {:.2f}%'.format((Accuracy_sum/Fold)*100))"
   ]
  },
  {
   "cell_type": "markdown",
   "metadata": {},
   "source": [
    "## 전체 학습 데이터로 NN 학습 및 모델 저장"
   ]
  },
  {
   "cell_type": "code",
   "execution_count": 9,
   "metadata": {},
   "outputs": [],
   "source": [
    "IterationForPrintAcc = 200\n",
    "\n",
    "class AccuracyPerEpoch(keras.callbacks.Callback):\n",
    "    def on_epoch_end(self, epoch, logs=None):\n",
    "        keras.callbacks.Callback()\n",
    "        if epoch%IterationForPrintAcc == 0:\n",
    "            print(\"{} Epochs Accuracy : {:.2f}% \".format(epoch, logs[\"accuracy\"]*100))"
   ]
  },
  {
   "cell_type": "code",
   "execution_count": 10,
   "metadata": {},
   "outputs": [
    {
     "name": "stdout",
     "output_type": "stream",
     "text": [
      "0 Epochs Accuracy : 50.31% \n",
      "200 Epochs Accuracy : 61.25% \n",
      "400 Epochs Accuracy : 59.69% \n",
      "600 Epochs Accuracy : 55.94% \n",
      "800 Epochs Accuracy : 60.62% \n",
      "1000 Epochs Accuracy : 58.75% \n",
      "1200 Epochs Accuracy : 60.62% \n",
      "1400 Epochs Accuracy : 63.75% \n",
      "1600 Epochs Accuracy : 62.19% \n",
      "1800 Epochs Accuracy : 60.31% \n",
      "Final Train Accuracy : 60.94%\n"
     ]
    }
   ],
   "source": [
    "tf.random.set_seed(777)    \n",
    "\n",
    "Data  = Training_All\n",
    "Label = Training_All_Label\n",
    "\n",
    "model = ANN_model(Training_All)\n",
    "hist = model.fit(Data, Label, epochs=iteration, verbose = 0, callbacks = [AccuracyPerEpoch()])\n",
    "\n",
    "print('Final Train Accuracy : {:.2f}%'.format(hist.history['accuracy'][-1]*100))"
   ]
  },
  {
   "cell_type": "code",
   "execution_count": 11,
   "metadata": {},
   "outputs": [
    {
     "data": {
      "image/png": "[encoded data removed]",
      "text/plain": [
       "<Figure size 432x288 with 2 Axes>"
      ]
     },
     "metadata": {
      "needs_background": "light"
     },
     "output_type": "display_data"
    }
   ],
   "source": [
    "# 학습 과정 확인\n",
    "\n",
    "fig, loss_ax = plt.subplots()\n",
    "acc_ax = loss_ax.twinx()\n",
    "\n",
    "loss_ax.plot(hist.history['loss'], 'y', label='train loss', c = 'tab:red')\n",
    "loss_ax.set_xlabel('epoch')\n",
    "loss_ax.set_ylabel('loss')\n",
    "loss_ax.legend(loc='upper left')\n",
    "\n",
    "acc_ax.plot(hist.history['accuracy'], 'b', label='train acc', c = 'tab:blue')\n",
    "acc_ax.set_ylabel('accuracy')\n",
    "acc_ax.legend(loc='lower left')\n",
    "\n",
    "plt.show()"
   ]
  },
  {
   "cell_type": "code",
   "execution_count": 12,
   "metadata": {},
   "outputs": [],
   "source": [
    "# 모델 저장\n",
    "model.save(\"./MLmodels/ANN_model.h5\")"
   ]
  },
  {
   "cell_type": "markdown",
   "metadata": {},
   "source": [
    "## NN model 불러와서 진단"
   ]
  },
  {
   "cell_type": "code",
   "execution_count": 13,
   "metadata": {},
   "outputs": [],
   "source": [
    "# 모델 불러오기\n",
    "LoadedModel = keras.models.load_model(\"./MLmodels/ANN_model.h5\")"
   ]
  },
  {
   "cell_type": "code",
   "execution_count": 14,
   "metadata": {},
   "outputs": [],
   "source": [
    "Test_Data         = np.array(pd.read_csv('./K_FoldData/Test_Data'        , sep=\",\", header=None))\n",
    "Test_Label_forANN = np.array(pd.read_csv('./K_FoldData/Test_Label_forANN', sep=\",\", header=None))"
   ]
  },
  {
   "cell_type": "code",
   "execution_count": 15,
   "metadata": {},
   "outputs": [
    {
     "name": "stdout",
     "output_type": "stream",
     "text": [
      "[Performance of ANN model] \n",
      "\n",
      "Accuracy : 45.00%\n"
     ]
    }
   ],
   "source": [
    "Loss, Accuracy = LoadedModel.evaluate(Test_Data, Test_Label_forANN, verbose=0)\n",
    "print('[Performance of ANN model] \\n')\n",
    "print('Accuracy : {:.2f}%'.format(Accuracy*100))"
   ]
  },
  {
   "cell_type": "code",
   "execution_count": 16,
   "metadata": {
    "scrolled": true
   },
   "outputs": [
    {
     "data": {
      "text/html": [
       "<div>\n",
       "<style scoped>\n",
       "    .dataframe tbody tr th:only-of-type {\n",
       "        vertical-align: middle;\n",
       "    }\n",
       "\n",
       "    .dataframe tbody tr th {\n",
       "        vertical-align: top;\n",
       "    }\n",
       "\n",
       "    .dataframe thead th {\n",
       "        text-align: right;\n",
       "    }\n",
       "</style>\n",
       "<table border=\"1\" class=\"dataframe\">\n",
       "  <thead>\n",
       "    <tr style=\"text-align: right;\">\n",
       "      <th></th>\n",
       "      <th>0</th>\n",
       "      <th>1</th>\n",
       "    </tr>\n",
       "  </thead>\n",
       "  <tbody>\n",
       "    <tr>\n",
       "      <td>0</td>\n",
       "      <td>0.662727</td>\n",
       "      <td>3.372734e-01</td>\n",
       "    </tr>\n",
       "    <tr>\n",
       "      <td>1</td>\n",
       "      <td>0.286225</td>\n",
       "      <td>7.137746e-01</td>\n",
       "    </tr>\n",
       "    <tr>\n",
       "      <td>2</td>\n",
       "      <td>0.196183</td>\n",
       "      <td>8.038171e-01</td>\n",
       "    </tr>\n",
       "    <tr>\n",
       "      <td>3</td>\n",
       "      <td>0.036086</td>\n",
       "      <td>9.639140e-01</td>\n",
       "    </tr>\n",
       "    <tr>\n",
       "      <td>4</td>\n",
       "      <td>0.234349</td>\n",
       "      <td>7.656509e-01</td>\n",
       "    </tr>\n",
       "    <tr>\n",
       "      <td>5</td>\n",
       "      <td>0.004231</td>\n",
       "      <td>9.957689e-01</td>\n",
       "    </tr>\n",
       "    <tr>\n",
       "      <td>6</td>\n",
       "      <td>0.287005</td>\n",
       "      <td>7.129946e-01</td>\n",
       "    </tr>\n",
       "    <tr>\n",
       "      <td>7</td>\n",
       "      <td>0.314129</td>\n",
       "      <td>6.858706e-01</td>\n",
       "    </tr>\n",
       "    <tr>\n",
       "      <td>8</td>\n",
       "      <td>1.000000</td>\n",
       "      <td>2.623632e-11</td>\n",
       "    </tr>\n",
       "    <tr>\n",
       "      <td>9</td>\n",
       "      <td>0.242519</td>\n",
       "      <td>7.574806e-01</td>\n",
       "    </tr>\n",
       "    <tr>\n",
       "      <td>10</td>\n",
       "      <td>0.172752</td>\n",
       "      <td>8.272479e-01</td>\n",
       "    </tr>\n",
       "    <tr>\n",
       "      <td>11</td>\n",
       "      <td>0.489668</td>\n",
       "      <td>5.103316e-01</td>\n",
       "    </tr>\n",
       "    <tr>\n",
       "      <td>12</td>\n",
       "      <td>0.417289</td>\n",
       "      <td>5.827113e-01</td>\n",
       "    </tr>\n",
       "    <tr>\n",
       "      <td>13</td>\n",
       "      <td>0.699232</td>\n",
       "      <td>3.007680e-01</td>\n",
       "    </tr>\n",
       "    <tr>\n",
       "      <td>14</td>\n",
       "      <td>0.386086</td>\n",
       "      <td>6.139140e-01</td>\n",
       "    </tr>\n",
       "    <tr>\n",
       "      <td>15</td>\n",
       "      <td>0.208421</td>\n",
       "      <td>7.915795e-01</td>\n",
       "    </tr>\n",
       "    <tr>\n",
       "      <td>16</td>\n",
       "      <td>0.337852</td>\n",
       "      <td>6.621482e-01</td>\n",
       "    </tr>\n",
       "    <tr>\n",
       "      <td>17</td>\n",
       "      <td>0.457995</td>\n",
       "      <td>5.420046e-01</td>\n",
       "    </tr>\n",
       "    <tr>\n",
       "      <td>18</td>\n",
       "      <td>0.527832</td>\n",
       "      <td>4.721681e-01</td>\n",
       "    </tr>\n",
       "    <tr>\n",
       "      <td>19</td>\n",
       "      <td>0.117490</td>\n",
       "      <td>8.825102e-01</td>\n",
       "    </tr>\n",
       "    <tr>\n",
       "      <td>20</td>\n",
       "      <td>0.318003</td>\n",
       "      <td>6.819965e-01</td>\n",
       "    </tr>\n",
       "    <tr>\n",
       "      <td>21</td>\n",
       "      <td>0.000457</td>\n",
       "      <td>9.995427e-01</td>\n",
       "    </tr>\n",
       "    <tr>\n",
       "      <td>22</td>\n",
       "      <td>0.389469</td>\n",
       "      <td>6.105315e-01</td>\n",
       "    </tr>\n",
       "    <tr>\n",
       "      <td>23</td>\n",
       "      <td>0.403481</td>\n",
       "      <td>5.965185e-01</td>\n",
       "    </tr>\n",
       "    <tr>\n",
       "      <td>24</td>\n",
       "      <td>0.326959</td>\n",
       "      <td>6.730414e-01</td>\n",
       "    </tr>\n",
       "    <tr>\n",
       "      <td>25</td>\n",
       "      <td>0.449238</td>\n",
       "      <td>5.507622e-01</td>\n",
       "    </tr>\n",
       "    <tr>\n",
       "      <td>26</td>\n",
       "      <td>0.437113</td>\n",
       "      <td>5.628871e-01</td>\n",
       "    </tr>\n",
       "    <tr>\n",
       "      <td>27</td>\n",
       "      <td>0.451357</td>\n",
       "      <td>5.486433e-01</td>\n",
       "    </tr>\n",
       "    <tr>\n",
       "      <td>28</td>\n",
       "      <td>0.367417</td>\n",
       "      <td>6.325825e-01</td>\n",
       "    </tr>\n",
       "    <tr>\n",
       "      <td>29</td>\n",
       "      <td>0.447079</td>\n",
       "      <td>5.529212e-01</td>\n",
       "    </tr>\n",
       "    <tr>\n",
       "      <td>30</td>\n",
       "      <td>0.412412</td>\n",
       "      <td>5.875882e-01</td>\n",
       "    </tr>\n",
       "    <tr>\n",
       "      <td>31</td>\n",
       "      <td>0.664756</td>\n",
       "      <td>3.352437e-01</td>\n",
       "    </tr>\n",
       "    <tr>\n",
       "      <td>32</td>\n",
       "      <td>0.451776</td>\n",
       "      <td>5.482239e-01</td>\n",
       "    </tr>\n",
       "    <tr>\n",
       "      <td>33</td>\n",
       "      <td>0.969864</td>\n",
       "      <td>3.013599e-02</td>\n",
       "    </tr>\n",
       "    <tr>\n",
       "      <td>34</td>\n",
       "      <td>0.527060</td>\n",
       "      <td>4.729397e-01</td>\n",
       "    </tr>\n",
       "    <tr>\n",
       "      <td>35</td>\n",
       "      <td>0.993974</td>\n",
       "      <td>6.025580e-03</td>\n",
       "    </tr>\n",
       "    <tr>\n",
       "      <td>36</td>\n",
       "      <td>0.908101</td>\n",
       "      <td>9.189905e-02</td>\n",
       "    </tr>\n",
       "    <tr>\n",
       "      <td>37</td>\n",
       "      <td>0.985584</td>\n",
       "      <td>1.441638e-02</td>\n",
       "    </tr>\n",
       "    <tr>\n",
       "      <td>38</td>\n",
       "      <td>0.369930</td>\n",
       "      <td>6.300699e-01</td>\n",
       "    </tr>\n",
       "    <tr>\n",
       "      <td>39</td>\n",
       "      <td>0.035758</td>\n",
       "      <td>9.642416e-01</td>\n",
       "    </tr>\n",
       "  </tbody>\n",
       "</table>\n",
       "</div>"
      ],
      "text/plain": [
       "           0             1\n",
       "0   0.662727  3.372734e-01\n",
       "1   0.286225  7.137746e-01\n",
       "2   0.196183  8.038171e-01\n",
       "3   0.036086  9.639140e-01\n",
       "4   0.234349  7.656509e-01\n",
       "5   0.004231  9.957689e-01\n",
       "6   0.287005  7.129946e-01\n",
       "7   0.314129  6.858706e-01\n",
       "8   1.000000  2.623632e-11\n",
       "9   0.242519  7.574806e-01\n",
       "10  0.172752  8.272479e-01\n",
       "11  0.489668  5.103316e-01\n",
       "12  0.417289  5.827113e-01\n",
       "13  0.699232  3.007680e-01\n",
       "14  0.386086  6.139140e-01\n",
       "15  0.208421  7.915795e-01\n",
       "16  0.337852  6.621482e-01\n",
       "17  0.457995  5.420046e-01\n",
       "18  0.527832  4.721681e-01\n",
       "19  0.117490  8.825102e-01\n",
       "20  0.318003  6.819965e-01\n",
       "21  0.000457  9.995427e-01\n",
       "22  0.389469  6.105315e-01\n",
       "23  0.403481  5.965185e-01\n",
       "24  0.326959  6.730414e-01\n",
       "25  0.449238  5.507622e-01\n",
       "26  0.437113  5.628871e-01\n",
       "27  0.451357  5.486433e-01\n",
       "28  0.367417  6.325825e-01\n",
       "29  0.447079  5.529212e-01\n",
       "30  0.412412  5.875882e-01\n",
       "31  0.664756  3.352437e-01\n",
       "32  0.451776  5.482239e-01\n",
       "33  0.969864  3.013599e-02\n",
       "34  0.527060  4.729397e-01\n",
       "35  0.993974  6.025580e-03\n",
       "36  0.908101  9.189905e-02\n",
       "37  0.985584  1.441638e-02\n",
       "38  0.369930  6.300699e-01\n",
       "39  0.035758  9.642416e-01"
      ]
     },
     "execution_count": 16,
     "metadata": {},
     "output_type": "execute_result"
    }
   ],
   "source": [
    "# 예측값 확인\n",
    "Predict_y = LoadedModel.predict(Test_Data)\n",
    "pd.DataFrame(Predict_y)"
   ]
  },
  {
   "cell_type": "code",
   "execution_count": null,
   "metadata": {},
   "outputs": [],
   "source": []
  }
 ],
 "metadata": {
  "kernelspec": {
   "display_name": "Python 3",
   "language": "python",
   "name": "python3"
  },
  "language_info": {
   "codemirror_mode": {
    "name": "ipython",
    "version": 3
   },
   "file_extension": ".py",
   "mimetype": "text/x-python",
   "name": "python",
   "nbconvert_exporter": "python",
   "pygments_lexer": "ipython3",
   "version": "3.7.4"
  }
 },
 "nbformat": 4,
 "nbformat_minor": 4
}
