{
 "cells": [
  {
   "cell_type": "markdown",
   "metadata": {},
   "source": [
    "### ****** 필독 !! 실습과제 주의사항 ******"
   ]
  },
  {
   "cell_type": "markdown",
   "metadata": {},
   "source": [
    "- 각자의 \"수강생 번호\" 확인 (아이캠퍼스 공지) \n",
    "- 제출하는 실습과제 파일에 \"수강생 번호\"를 기준으로 작성 (이름, 학번 등 작성X)\n",
    "- 각 실습과제에 대한 구체적인 파일 이름은 매번 개별 안내 \n",
    "  (수강생 번호 123번 학생 과제파일 예시 : 'ST123_HW2_1' )\n",
    "  \n",
    "- 과제 파일이름 양식 지키지 않을 시 감점!"
   ]
  },
  {
   "cell_type": "markdown",
   "metadata": {},
   "source": [
    "# [실습 과제 2]"
   ]
  },
  {
   "cell_type": "markdown",
   "metadata": {},
   "source": [
    "## 1. 센서 데이터 1개 (가속도) 및 WT level 4으로 설정하여 다른 형태의 특징데이터 추출 \n",
    "#### >>>>>> TimeDomain 10개 + FrequencyDomain 40개 = 총 50개 특징 추출\n",
    "#### >>>>>> 추출된 데이터를 파일로 저장 후 제출\n",
    "#### >>>>>> 데이터 파일 이름 : ST(수강생 번호)_HW2_1  (예시 : 'ST00_HW2_1'  //  'ST0_HW2_1')\n",
    "#### >>>>>> 데이터 파일 이름 중 'ST' , 'HW' 등 영어는 모두 대문자"
   ]
  },
  {
   "cell_type": "markdown",
   "metadata": {},
   "source": [
    " "
   ]
  },
  {
   "cell_type": "markdown",
   "metadata": {},
   "source": [
    "## 2. 위의 특징데이터에서 P-value 오름차순 상/하위 각각 5개를 선택한 2가지 특징데이터 추출\n",
    "#### >>>>>> 추출된 2개 데이터를 각각의 파일로 저장 후 제출\n",
    "#### >>>>>> 데이터 파일 이름 : ST(수강생 번호)_HW2_2 ,  ST(수강생 번호)_HW2_3 (예시 : 'ST00_HW2_2(or 3)'  //  'ST0_HW2_2(or 3)')\n",
    "#### >>>>>> 데이터  파일 이름 중 'ST' , 'HW' 등 영어는 모두 대문자"
   ]
  },
  {
   "cell_type": "markdown",
   "metadata": {},
   "source": [
    "## 3. 위의 2가지 특징데이터를 이용하여 t-SNE 수행 및 그래프 그리기\n",
    "#### >>>>>> P-value 기준 상위 5개 특징데이터 및 하위 5개 특징데이터 각각 t-SNE 수행 및 그래프 출력 (정상 : 파랑 // 고장 : 빨강)\n",
    "#### >>>>>> 출력된 그래프를 각각 캡쳐/저장하고, 이미지 파일(.jpg) 2개 제출\n",
    "#### >>>>>> 이미지 파일 이름 : ST(수강생 번호)_HW2_상위특징.jpg , ST(수강생 번호)_HW2_하위특징.jpg\n",
    "#### >>>>>> 이미지 파일 이름 중 'ST' , 'HW' 등 영어는 모두 대문자"
   ]
  },
  {
   "cell_type": "markdown",
   "metadata": {},
   "source": [
    "## ***** 데이터 파일 및 이미지 파일 함께 zip파일로 압축하여 제출\n",
    "### >>> 압축파일 이름 ST(수강생 번호)_HW2 (예시 : 'ST00_HW2'  //  'ST0_HW2')"
   ]
  },
  {
   "cell_type": "code",
   "execution_count": null,
   "metadata": {},
   "outputs": [],
   "source": []
  }
 ],
 "metadata": {
  "kernelspec": {
   "display_name": "Python 3",
   "language": "python",
   "name": "python3"
  },
  "language_info": {
   "codemirror_mode": {
    "name": "ipython",
    "version": 3
   },
   "file_extension": ".py",
   "mimetype": "text/x-python",
   "name": "python",
   "nbconvert_exporter": "python",
   "pygments_lexer": "ipython3",
   "version": "3.6.9"
  }
 },
 "nbformat": 4,
 "nbformat_minor": 4
}
