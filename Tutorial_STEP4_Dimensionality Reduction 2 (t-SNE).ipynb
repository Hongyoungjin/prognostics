{
 "cells": [
  {
   "cell_type": "code",
   "execution_count": 19,
   "metadata": {},
   "outputs": [
    {
     "name": "stderr",
     "output_type": "stream",
     "text": [
      "UsageError: unrecognized arguments: Pyplot 그래프 새창에서 열기 옵션\n"
     ]
    }
   ],
   "source": [
    "%matplotlib                    # Pyplot 그래프 새창에서 열기 옵션"
   ]
  },
  {
   "cell_type": "code",
   "execution_count": null,
   "metadata": {},
   "outputs": [],
   "source": [
    "%matplotlib inline             # Pyplot 그래프 새창에서 열기 '취소' 옵션"
   ]
  },
  {
   "cell_type": "code",
   "execution_count": 3,
   "metadata": {},
   "outputs": [],
   "source": [
    "pd.set_option('display.max_rows',    100)      # DataFrame 데이터 확인 시 최대 표시 행 수\n",
    "pd.set_option('display.max_columns', 100)      # DataFrame 데이터 확인 시 최대 표시 열 수"
   ]
  },
  {
   "cell_type": "markdown",
   "metadata": {},
   "source": [
    "## 라이브러리 import"
   ]
  },
  {
   "cell_type": "code",
   "execution_count": 2,
   "metadata": {},
   "outputs": [],
   "source": [
    "import pandas as pd\n",
    "import numpy  as np\n",
    "import matplotlib.pyplot as plt\n",
    "import time"
   ]
  },
  {
   "cell_type": "markdown",
   "metadata": {},
   "source": [
    "t-SNE 라이브러리"
   ]
  },
  {
   "cell_type": "code",
   "execution_count": 4,
   "metadata": {},
   "outputs": [],
   "source": [
    "from sklearn.preprocessing import StandardScaler\n",
    "from sklearn.manifold      import TSNE"
   ]
  },
  {
   "cell_type": "markdown",
   "metadata": {},
   "source": [
    ".\n",
    "\n",
    ".\n",
    "\n",
    ".\n",
    "\n"
   ]
  },
  {
   "cell_type": "markdown",
   "metadata": {},
   "source": [
    "## 데이터 불러오기"
   ]
  },
  {
   "cell_type": "markdown",
   "metadata": {},
   "source": [
    "특징값 데이터 불러와서 정상/고장 분리"
   ]
  },
  {
   "cell_type": "code",
   "execution_count": 9,
   "metadata": {},
   "outputs": [
    {
     "data": {
      "text/plain": [
       "(50, 360)"
      ]
     },
     "execution_count": 9,
     "metadata": {},
     "output_type": "execute_result"
    }
   ],
   "source": [
    "FeatureData = pd.read_csv('./ProcessedData/FeatureData', header=None)\n",
    "FeatureData.shape"
   ]
  },
  {
   "cell_type": "markdown",
   "metadata": {},
   "source": [
    "P value 순위 데이터 불러오기"
   ]
  },
  {
   "cell_type": "code",
   "execution_count": 33,
   "metadata": {},
   "outputs": [
    {
     "data": {
      "text/html": [
       "<div>\n",
       "<style scoped>\n",
       "    .dataframe tbody tr th:only-of-type {\n",
       "        vertical-align: middle;\n",
       "    }\n",
       "\n",
       "    .dataframe tbody tr th {\n",
       "        vertical-align: top;\n",
       "    }\n",
       "\n",
       "    .dataframe thead th {\n",
       "        text-align: right;\n",
       "    }\n",
       "</style>\n",
       "<table border=\"1\" class=\"dataframe\">\n",
       "  <thead>\n",
       "    <tr style=\"text-align: right;\">\n",
       "      <th></th>\n",
       "      <th>0</th>\n",
       "      <th>1</th>\n",
       "    </tr>\n",
       "  </thead>\n",
       "  <tbody>\n",
       "    <tr>\n",
       "      <td>0</td>\n",
       "      <td>35.0</td>\n",
       "      <td>8.968269e-01</td>\n",
       "    </tr>\n",
       "    <tr>\n",
       "      <td>1</td>\n",
       "      <td>29.0</td>\n",
       "      <td>5.858602e-01</td>\n",
       "    </tr>\n",
       "    <tr>\n",
       "      <td>2</td>\n",
       "      <td>42.0</td>\n",
       "      <td>4.537752e-01</td>\n",
       "    </tr>\n",
       "    <tr>\n",
       "      <td>3</td>\n",
       "      <td>28.0</td>\n",
       "      <td>2.915583e-01</td>\n",
       "    </tr>\n",
       "    <tr>\n",
       "      <td>4</td>\n",
       "      <td>25.0</td>\n",
       "      <td>1.501369e-01</td>\n",
       "    </tr>\n",
       "    <tr>\n",
       "      <td>5</td>\n",
       "      <td>19.0</td>\n",
       "      <td>1.380529e-01</td>\n",
       "    </tr>\n",
       "    <tr>\n",
       "      <td>6</td>\n",
       "      <td>18.0</td>\n",
       "      <td>1.340581e-01</td>\n",
       "    </tr>\n",
       "    <tr>\n",
       "      <td>7</td>\n",
       "      <td>38.0</td>\n",
       "      <td>1.122680e-01</td>\n",
       "    </tr>\n",
       "    <tr>\n",
       "      <td>8</td>\n",
       "      <td>49.0</td>\n",
       "      <td>1.064726e-01</td>\n",
       "    </tr>\n",
       "    <tr>\n",
       "      <td>9</td>\n",
       "      <td>48.0</td>\n",
       "      <td>9.660333e-02</td>\n",
       "    </tr>\n",
       "    <tr>\n",
       "      <td>10</td>\n",
       "      <td>39.0</td>\n",
       "      <td>9.477362e-02</td>\n",
       "    </tr>\n",
       "    <tr>\n",
       "      <td>11</td>\n",
       "      <td>45.0</td>\n",
       "      <td>7.487854e-02</td>\n",
       "    </tr>\n",
       "    <tr>\n",
       "      <td>12</td>\n",
       "      <td>22.0</td>\n",
       "      <td>6.548437e-02</td>\n",
       "    </tr>\n",
       "    <tr>\n",
       "      <td>13</td>\n",
       "      <td>5.0</td>\n",
       "      <td>1.481170e-02</td>\n",
       "    </tr>\n",
       "    <tr>\n",
       "      <td>14</td>\n",
       "      <td>32.0</td>\n",
       "      <td>8.814869e-03</td>\n",
       "    </tr>\n",
       "    <tr>\n",
       "      <td>15</td>\n",
       "      <td>12.0</td>\n",
       "      <td>6.848542e-03</td>\n",
       "    </tr>\n",
       "    <tr>\n",
       "      <td>16</td>\n",
       "      <td>15.0</td>\n",
       "      <td>5.337086e-03</td>\n",
       "    </tr>\n",
       "    <tr>\n",
       "      <td>17</td>\n",
       "      <td>17.0</td>\n",
       "      <td>3.340325e-04</td>\n",
       "    </tr>\n",
       "    <tr>\n",
       "      <td>18</td>\n",
       "      <td>16.0</td>\n",
       "      <td>4.095454e-05</td>\n",
       "    </tr>\n",
       "    <tr>\n",
       "      <td>19</td>\n",
       "      <td>27.0</td>\n",
       "      <td>8.403172e-08</td>\n",
       "    </tr>\n",
       "    <tr>\n",
       "      <td>20</td>\n",
       "      <td>10.0</td>\n",
       "      <td>2.883716e-08</td>\n",
       "    </tr>\n",
       "    <tr>\n",
       "      <td>21</td>\n",
       "      <td>2.0</td>\n",
       "      <td>2.246947e-08</td>\n",
       "    </tr>\n",
       "    <tr>\n",
       "      <td>22</td>\n",
       "      <td>13.0</td>\n",
       "      <td>7.647475e-09</td>\n",
       "    </tr>\n",
       "    <tr>\n",
       "      <td>23</td>\n",
       "      <td>41.0</td>\n",
       "      <td>5.519231e-09</td>\n",
       "    </tr>\n",
       "    <tr>\n",
       "      <td>24</td>\n",
       "      <td>26.0</td>\n",
       "      <td>5.505644e-09</td>\n",
       "    </tr>\n",
       "    <tr>\n",
       "      <td>25</td>\n",
       "      <td>11.0</td>\n",
       "      <td>2.668049e-09</td>\n",
       "    </tr>\n",
       "    <tr>\n",
       "      <td>26</td>\n",
       "      <td>33.0</td>\n",
       "      <td>6.343540e-10</td>\n",
       "    </tr>\n",
       "    <tr>\n",
       "      <td>27</td>\n",
       "      <td>43.0</td>\n",
       "      <td>4.350284e-10</td>\n",
       "    </tr>\n",
       "    <tr>\n",
       "      <td>28</td>\n",
       "      <td>21.0</td>\n",
       "      <td>3.225120e-10</td>\n",
       "    </tr>\n",
       "    <tr>\n",
       "      <td>29</td>\n",
       "      <td>23.0</td>\n",
       "      <td>3.071437e-10</td>\n",
       "    </tr>\n",
       "    <tr>\n",
       "      <td>30</td>\n",
       "      <td>40.0</td>\n",
       "      <td>1.382783e-10</td>\n",
       "    </tr>\n",
       "    <tr>\n",
       "      <td>31</td>\n",
       "      <td>46.0</td>\n",
       "      <td>1.049061e-10</td>\n",
       "    </tr>\n",
       "    <tr>\n",
       "      <td>32</td>\n",
       "      <td>36.0</td>\n",
       "      <td>8.519394e-11</td>\n",
       "    </tr>\n",
       "    <tr>\n",
       "      <td>33</td>\n",
       "      <td>1.0</td>\n",
       "      <td>8.509037e-11</td>\n",
       "    </tr>\n",
       "    <tr>\n",
       "      <td>34</td>\n",
       "      <td>31.0</td>\n",
       "      <td>5.373241e-11</td>\n",
       "    </tr>\n",
       "    <tr>\n",
       "      <td>35</td>\n",
       "      <td>6.0</td>\n",
       "      <td>4.967802e-11</td>\n",
       "    </tr>\n",
       "    <tr>\n",
       "      <td>36</td>\n",
       "      <td>9.0</td>\n",
       "      <td>4.617731e-11</td>\n",
       "    </tr>\n",
       "    <tr>\n",
       "      <td>37</td>\n",
       "      <td>14.0</td>\n",
       "      <td>4.526504e-11</td>\n",
       "    </tr>\n",
       "    <tr>\n",
       "      <td>38</td>\n",
       "      <td>20.0</td>\n",
       "      <td>2.718745e-11</td>\n",
       "    </tr>\n",
       "    <tr>\n",
       "      <td>39</td>\n",
       "      <td>7.0</td>\n",
       "      <td>1.231454e-11</td>\n",
       "    </tr>\n",
       "    <tr>\n",
       "      <td>40</td>\n",
       "      <td>30.0</td>\n",
       "      <td>1.161089e-11</td>\n",
       "    </tr>\n",
       "    <tr>\n",
       "      <td>41</td>\n",
       "      <td>0.0</td>\n",
       "      <td>1.014879e-11</td>\n",
       "    </tr>\n",
       "    <tr>\n",
       "      <td>42</td>\n",
       "      <td>24.0</td>\n",
       "      <td>8.230631e-12</td>\n",
       "    </tr>\n",
       "    <tr>\n",
       "      <td>43</td>\n",
       "      <td>4.0</td>\n",
       "      <td>5.902344e-12</td>\n",
       "    </tr>\n",
       "    <tr>\n",
       "      <td>44</td>\n",
       "      <td>47.0</td>\n",
       "      <td>3.501800e-12</td>\n",
       "    </tr>\n",
       "    <tr>\n",
       "      <td>45</td>\n",
       "      <td>34.0</td>\n",
       "      <td>2.731387e-12</td>\n",
       "    </tr>\n",
       "    <tr>\n",
       "      <td>46</td>\n",
       "      <td>44.0</td>\n",
       "      <td>2.134969e-13</td>\n",
       "    </tr>\n",
       "    <tr>\n",
       "      <td>47</td>\n",
       "      <td>8.0</td>\n",
       "      <td>2.286010e-15</td>\n",
       "    </tr>\n",
       "    <tr>\n",
       "      <td>48</td>\n",
       "      <td>3.0</td>\n",
       "      <td>1.340717e-15</td>\n",
       "    </tr>\n",
       "    <tr>\n",
       "      <td>49</td>\n",
       "      <td>37.0</td>\n",
       "      <td>8.884558e-16</td>\n",
       "    </tr>\n",
       "  </tbody>\n",
       "</table>\n",
       "</div>"
      ],
      "text/plain": [
       "       0             1\n",
       "0   35.0  8.968269e-01\n",
       "1   29.0  5.858602e-01\n",
       "2   42.0  4.537752e-01\n",
       "3   28.0  2.915583e-01\n",
       "4   25.0  1.501369e-01\n",
       "5   19.0  1.380529e-01\n",
       "6   18.0  1.340581e-01\n",
       "7   38.0  1.122680e-01\n",
       "8   49.0  1.064726e-01\n",
       "9   48.0  9.660333e-02\n",
       "10  39.0  9.477362e-02\n",
       "11  45.0  7.487854e-02\n",
       "12  22.0  6.548437e-02\n",
       "13   5.0  1.481170e-02\n",
       "14  32.0  8.814869e-03\n",
       "15  12.0  6.848542e-03\n",
       "16  15.0  5.337086e-03\n",
       "17  17.0  3.340325e-04\n",
       "18  16.0  4.095454e-05\n",
       "19  27.0  8.403172e-08\n",
       "20  10.0  2.883716e-08\n",
       "21   2.0  2.246947e-08\n",
       "22  13.0  7.647475e-09\n",
       "23  41.0  5.519231e-09\n",
       "24  26.0  5.505644e-09\n",
       "25  11.0  2.668049e-09\n",
       "26  33.0  6.343540e-10\n",
       "27  43.0  4.350284e-10\n",
       "28  21.0  3.225120e-10\n",
       "29  23.0  3.071437e-10\n",
       "30  40.0  1.382783e-10\n",
       "31  46.0  1.049061e-10\n",
       "32  36.0  8.519394e-11\n",
       "33   1.0  8.509037e-11\n",
       "34  31.0  5.373241e-11\n",
       "35   6.0  4.967802e-11\n",
       "36   9.0  4.617731e-11\n",
       "37  14.0  4.526504e-11\n",
       "38  20.0  2.718745e-11\n",
       "39   7.0  1.231454e-11\n",
       "40  30.0  1.161089e-11\n",
       "41   0.0  1.014879e-11\n",
       "42  24.0  8.230631e-12\n",
       "43   4.0  5.902344e-12\n",
       "44  47.0  3.501800e-12\n",
       "45  34.0  2.731387e-12\n",
       "46  44.0  2.134969e-13\n",
       "47   8.0  2.286010e-15\n",
       "48   3.0  1.340717e-15\n",
       "49  37.0  8.884558e-16"
      ]
     },
     "execution_count": 33,
     "metadata": {},
     "output_type": "execute_result"
    }
   ],
   "source": [
    "P_value_Rank = pd.read_csv('./ProcessedData/P_value_Rank_lower' , header=None)\n",
    "P_value_Rank"
   ]
  },
  {
   "cell_type": "markdown",
   "metadata": {},
   "source": [
    "## P value 기준 차원축소 대상 데이터(Feature data) 선정"
   ]
  },
  {
   "cell_type": "code",
   "execution_count": 34,
   "metadata": {},
   "outputs": [
    {
     "data": {
      "text/plain": [
       "(5, 360)"
      ]
     },
     "execution_count": 34,
     "metadata": {},
     "output_type": "execute_result"
    }
   ],
   "source": [
    "# StartRank 부터 Number 만큼의 Feature\n",
    "StartRank = 1\n",
    "Number    = 5\n",
    "\n",
    "SelectedFeatues = np.zeros((Number,FeatureData.shape[1]))\n",
    "\n",
    "s = 0\n",
    "\n",
    "for i in range(StartRank, StartRank+Number):\n",
    "    \n",
    "    index                = int(P_value_Rank.iloc[i-1,0])\n",
    "    SelectedFeatues[s,:] = FeatureData.iloc[index,:].values\n",
    "    s += 1\n",
    "\n",
    "# 정상, 고장 특징값 합치기    \n",
    "FeatureSelected = pd.DataFrame(SelectedFeatues)\n",
    "FeatureSelected.shape"
   ]
  },
  {
   "cell_type": "code",
   "execution_count": 35,
   "metadata": {},
   "outputs": [
    {
     "data": {
      "text/plain": [
       "(360, 5)"
      ]
     },
     "execution_count": 35,
     "metadata": {},
     "output_type": "execute_result"
    }
   ],
   "source": [
    "FeatureSelected = np.transpose(FeatureSelected)\n",
    "FeatureSelected.shape"
   ]
  },
  {
   "cell_type": "markdown",
   "metadata": {},
   "source": [
    ".\n",
    "\n",
    ".\n",
    "\n",
    ".\n",
    "\n"
   ]
  },
  {
   "cell_type": "markdown",
   "metadata": {},
   "source": [
    "# 차원축소(t-SNE) 기반 데이터 시각화"
   ]
  },
  {
   "cell_type": "code",
   "execution_count": 36,
   "metadata": {},
   "outputs": [
    {
     "name": "stdout",
     "output_type": "stream",
     "text": [
      "[t-SNE] Computing 121 nearest neighbors...\n",
      "[t-SNE] Indexed 360 samples in 0.001s...\n",
      "[t-SNE] Computed neighbors for 360 samples in 0.007s...\n",
      "[t-SNE] Computed conditional probabilities for sample 360 / 360\n",
      "[t-SNE] Mean sigma: 36.951505\n",
      "[t-SNE] KL divergence after 250 iterations with early exaggeration: 50.910789\n",
      "[t-SNE] KL divergence after 400 iterations: 0.108528\n",
      "\n",
      "\n",
      " t-SNE done! Time elapsed: 0.7779474258422852 seconds\n"
     ]
    }
   ],
   "source": [
    "time_start   = time.time()\n",
    "tsne         = TSNE(n_components=2, verbose=1, perplexity=40, n_iter=400, random_state=1)\n",
    "tsne_results = tsne.fit_transform(FeatureSelected)\n",
    "\n",
    "print( '\\n\\n t-SNE done! Time elapsed: {} seconds'.format(time.time() - time_start ))\n"
   ]
  },
  {
   "cell_type": "code",
   "execution_count": 37,
   "metadata": {},
   "outputs": [
    {
     "data": {
      "text/html": [
       "<div>\n",
       "<style scoped>\n",
       "    .dataframe tbody tr th:only-of-type {\n",
       "        vertical-align: middle;\n",
       "    }\n",
       "\n",
       "    .dataframe tbody tr th {\n",
       "        vertical-align: top;\n",
       "    }\n",
       "\n",
       "    .dataframe thead th {\n",
       "        text-align: right;\n",
       "    }\n",
       "</style>\n",
       "<table border=\"1\" class=\"dataframe\">\n",
       "  <thead>\n",
       "    <tr style=\"text-align: right;\">\n",
       "      <th></th>\n",
       "      <th>0</th>\n",
       "      <th>1</th>\n",
       "    </tr>\n",
       "  </thead>\n",
       "  <tbody>\n",
       "    <tr>\n",
       "      <td>0</td>\n",
       "      <td>11.072635</td>\n",
       "      <td>8.763872</td>\n",
       "    </tr>\n",
       "    <tr>\n",
       "      <td>1</td>\n",
       "      <td>-2.819483</td>\n",
       "      <td>-11.294009</td>\n",
       "    </tr>\n",
       "    <tr>\n",
       "      <td>2</td>\n",
       "      <td>-2.036653</td>\n",
       "      <td>-11.863297</td>\n",
       "    </tr>\n",
       "    <tr>\n",
       "      <td>3</td>\n",
       "      <td>-15.224670</td>\n",
       "      <td>8.299601</td>\n",
       "    </tr>\n",
       "    <tr>\n",
       "      <td>4</td>\n",
       "      <td>-5.956230</td>\n",
       "      <td>-13.625385</td>\n",
       "    </tr>\n",
       "    <tr>\n",
       "      <td>...</td>\n",
       "      <td>...</td>\n",
       "      <td>...</td>\n",
       "    </tr>\n",
       "    <tr>\n",
       "      <td>355</td>\n",
       "      <td>8.072874</td>\n",
       "      <td>12.655957</td>\n",
       "    </tr>\n",
       "    <tr>\n",
       "      <td>356</td>\n",
       "      <td>9.996949</td>\n",
       "      <td>10.752888</td>\n",
       "    </tr>\n",
       "    <tr>\n",
       "      <td>357</td>\n",
       "      <td>8.811927</td>\n",
       "      <td>12.094079</td>\n",
       "    </tr>\n",
       "    <tr>\n",
       "      <td>358</td>\n",
       "      <td>-10.598871</td>\n",
       "      <td>-0.264048</td>\n",
       "    </tr>\n",
       "    <tr>\n",
       "      <td>359</td>\n",
       "      <td>-4.084686</td>\n",
       "      <td>-14.090640</td>\n",
       "    </tr>\n",
       "  </tbody>\n",
       "</table>\n",
       "<p>360 rows × 2 columns</p>\n",
       "</div>"
      ],
      "text/plain": [
       "             0          1\n",
       "0    11.072635   8.763872\n",
       "1    -2.819483 -11.294009\n",
       "2    -2.036653 -11.863297\n",
       "3   -15.224670   8.299601\n",
       "4    -5.956230 -13.625385\n",
       "..         ...        ...\n",
       "355   8.072874  12.655957\n",
       "356   9.996949  10.752888\n",
       "357   8.811927  12.094079\n",
       "358 -10.598871  -0.264048\n",
       "359  -4.084686 -14.090640\n",
       "\n",
       "[360 rows x 2 columns]"
      ]
     },
     "execution_count": 37,
     "metadata": {},
     "output_type": "execute_result"
    }
   ],
   "source": [
    "pd.DataFrame(tsne_results)"
   ]
  },
  {
   "cell_type": "code",
   "execution_count": 38,
   "metadata": {},
   "outputs": [],
   "source": [
    "NoOfData = int(FeatureSelected.shape[0]/2)\n",
    "\n",
    "plt.figure(figsize=(10,5))\n",
    "\n",
    "plt.scatter(tsne_results[:NoOfData,0], tsne_results[:NoOfData,1], marker='o', label='Normal')\n",
    "plt.scatter(tsne_results[NoOfData:,0], tsne_results[NoOfData:,1], marker='o', label='Abnormal', c='r')\n",
    "plt.title('t-SNE Result', fontsize=15)\n",
    "plt.grid(alpha=0.5)\n",
    "plt.legend(fontsize=12)\n",
    "plt.xlabel('t-SNE_1')\n",
    "plt.ylabel('t-SNE_2')\n",
    "\n",
    "plt.show()"
   ]
  },
  {
   "cell_type": "code",
   "execution_count": null,
   "metadata": {},
   "outputs": [],
   "source": []
  }
 ],
 "metadata": {
  "kernelspec": {
   "display_name": "Python 3",
   "language": "python",
   "name": "python3"
  },
  "language_info": {
   "codemirror_mode": {
    "name": "ipython",
    "version": 3
   },
   "file_extension": ".py",
   "mimetype": "text/x-python",
   "name": "python",
   "nbconvert_exporter": "python",
   "pygments_lexer": "ipython3",
   "version": "3.7.4"
  }
 },
 "nbformat": 4,
 "nbformat_minor": 4
}
