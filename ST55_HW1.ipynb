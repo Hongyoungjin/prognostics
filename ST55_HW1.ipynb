{
 "cells": [
  {
   "cell_type": "markdown",
   "metadata": {},
   "source": [
    "### ****** 필독 !! 실습과제 주의사항 ******"
   ]
  },
  {
   "cell_type": "markdown",
   "metadata": {},
   "source": [
    "- 각자의 \"수강생 번호\" 확인 (아이캠퍼스 공지) \n",
    "- 제출하는 실습과제 파일에 \"수강생 번호\"를 기준으로 작성 (이름, 학번 등 작성X)\n",
    "- 각 실습과제에 대한 구체적인 파일 이름은 매번 개별 안내 \n",
    "  (수강생 번호 123번 학생 과제파일 예시 : 'ST123_HW2_1' )\n",
    "  \n",
    "- 과제 파일이름 양식 지키지 않을 시 감점!"
   ]
  },
  {
   "cell_type": "markdown",
   "metadata": {},
   "source": [
    "# [실습 과제 1]"
   ]
  },
  {
   "cell_type": "markdown",
   "metadata": {},
   "source": [
    "## 1. ExampleData의 0.02초 ~ 0.04초에 대하여 '센서 데이터(시간열 제외)'만 추출하기\n",
    "#### >>>>>> 추출된 데이터를 파일로 저장 후 제출\n",
    "#### >>>>>> 데이터 파일 이름 : ST(수강생 번호)_HW1_1  (예시 : 'ST000_HW1_1'  //  'ST00_HW1_1'  //  'ST0_HW1_1')\n",
    "#### >>>>>> 데이터 파일 이름 중 'ST' , 'HW' 등 영어는 모두 대문자"
   ]
  },
  {
   "cell_type": "markdown",
   "metadata": {},
   "source": [
    " "
   ]
  },
  {
   "cell_type": "markdown",
   "metadata": {},
   "source": [
    "## 2. 위의 0.02~0.04초 센서 데이터에 대하여 대표값 6개 추출하기\n",
    "#### >>>>>> 대표값 6개 (Max, Min, RMS, Var, Std, Mean, 순서준수) array 추출 및 Data frame으로 변환하여 데이터 파일로 저장 후 제출\n",
    "#### >>>>>> 데이터 파일 이름 : ST(수강생 번호)_HW1_2  (예시 : 'ST000_HW1_2' // 'ST00_HW1_2' // 'ST0_HW1_2')\n",
    "#### >>>>>> 데이터 파일 이름 중 'ST' , 'HW' 등 영어는 모두 대문자"
   ]
  },
  {
   "cell_type": "markdown",
   "metadata": {},
   "source": [
    "## ***** 1번, 2번 데이터 파일 함께 zip파일로 압축하여 제출\n",
    "### >>> 압축파일 이름 ST(수강생 번호)_HW1 (예시 : 'ST000_HW1.zip'  //  'ST00_HW1'  //  'ST0_HW1)"
   ]
  },
  {
   "cell_type": "code",
   "execution_count": 1,
   "metadata": {},
   "outputs": [],
   "source": [
    "import pandas as pd\n",
    "import numpy as np"
   ]
  },
  {
   "cell_type": "code",
   "execution_count": 2,
   "metadata": {},
   "outputs": [
    {
     "data": {
      "text/html": [
       "<div>\n",
       "<style scoped>\n",
       "    .dataframe tbody tr th:only-of-type {\n",
       "        vertical-align: middle;\n",
       "    }\n",
       "\n",
       "    .dataframe tbody tr th {\n",
       "        vertical-align: top;\n",
       "    }\n",
       "\n",
       "    .dataframe thead th {\n",
       "        text-align: right;\n",
       "    }\n",
       "</style>\n",
       "<table border=\"1\" class=\"dataframe\">\n",
       "  <thead>\n",
       "    <tr style=\"text-align: right;\">\n",
       "      <th></th>\n",
       "      <th>0</th>\n",
       "      <th>1</th>\n",
       "      <th>2</th>\n",
       "      <th>3</th>\n",
       "    </tr>\n",
       "  </thead>\n",
       "  <tbody>\n",
       "    <tr>\n",
       "      <td>0</td>\n",
       "      <td>0.000000</td>\n",
       "      <td>0.016440</td>\n",
       "      <td>-0.014200</td>\n",
       "      <td>0.001433</td>\n",
       "    </tr>\n",
       "    <tr>\n",
       "      <td>1</td>\n",
       "      <td>0.000078</td>\n",
       "      <td>0.013822</td>\n",
       "      <td>-0.015707</td>\n",
       "      <td>0.001504</td>\n",
       "    </tr>\n",
       "    <tr>\n",
       "      <td>2</td>\n",
       "      <td>0.000156</td>\n",
       "      <td>0.019431</td>\n",
       "      <td>-0.016963</td>\n",
       "      <td>0.001433</td>\n",
       "    </tr>\n",
       "    <tr>\n",
       "      <td>3</td>\n",
       "      <td>0.000234</td>\n",
       "      <td>0.003726</td>\n",
       "      <td>-0.017248</td>\n",
       "      <td>0.001549</td>\n",
       "    </tr>\n",
       "    <tr>\n",
       "      <td>4</td>\n",
       "      <td>0.000313</td>\n",
       "      <td>0.022049</td>\n",
       "      <td>-0.009840</td>\n",
       "      <td>0.001864</td>\n",
       "    </tr>\n",
       "    <tr>\n",
       "      <td>...</td>\n",
       "      <td>...</td>\n",
       "      <td>...</td>\n",
       "      <td>...</td>\n",
       "      <td>...</td>\n",
       "    </tr>\n",
       "    <tr>\n",
       "      <td>2769</td>\n",
       "      <td>0.216330</td>\n",
       "      <td>0.077392</td>\n",
       "      <td>0.002404</td>\n",
       "      <td>0.003453</td>\n",
       "    </tr>\n",
       "    <tr>\n",
       "      <td>2770</td>\n",
       "      <td>0.216410</td>\n",
       "      <td>0.030276</td>\n",
       "      <td>0.003952</td>\n",
       "      <td>0.003498</td>\n",
       "    </tr>\n",
       "    <tr>\n",
       "      <td>2771</td>\n",
       "      <td>0.216480</td>\n",
       "      <td>0.017188</td>\n",
       "      <td>0.005504</td>\n",
       "      <td>0.003397</td>\n",
       "    </tr>\n",
       "    <tr>\n",
       "      <td>2772</td>\n",
       "      <td>0.216560</td>\n",
       "      <td>0.037754</td>\n",
       "      <td>-0.000108</td>\n",
       "      <td>0.003506</td>\n",
       "    </tr>\n",
       "    <tr>\n",
       "      <td>2773</td>\n",
       "      <td>0.216640</td>\n",
       "      <td>-0.016093</td>\n",
       "      <td>-0.001652</td>\n",
       "      <td>0.003600</td>\n",
       "    </tr>\n",
       "  </tbody>\n",
       "</table>\n",
       "<p>2774 rows × 4 columns</p>\n",
       "</div>"
      ],
      "text/plain": [
       "             0         1         2         3\n",
       "0     0.000000  0.016440 -0.014200  0.001433\n",
       "1     0.000078  0.013822 -0.015707  0.001504\n",
       "2     0.000156  0.019431 -0.016963  0.001433\n",
       "3     0.000234  0.003726 -0.017248  0.001549\n",
       "4     0.000313  0.022049 -0.009840  0.001864\n",
       "...        ...       ...       ...       ...\n",
       "2769  0.216330  0.077392  0.002404  0.003453\n",
       "2770  0.216410  0.030276  0.003952  0.003498\n",
       "2771  0.216480  0.017188  0.005504  0.003397\n",
       "2772  0.216560  0.037754 -0.000108  0.003506\n",
       "2773  0.216640 -0.016093 -0.001652  0.003600\n",
       "\n",
       "[2774 rows x 4 columns]"
      ]
     },
     "execution_count": 2,
     "metadata": {},
     "output_type": "execute_result"
    }
   ],
   "source": [
    "ExampleData = pd.read_csv('./ExampleData',sep=',',header=None)\n",
    "ExampleData"
   ]
  },
  {
   "cell_type": "code",
   "execution_count": 3,
   "metadata": {},
   "outputs": [
    {
     "data": {
      "text/plain": [
       "(256, 512)"
      ]
     },
     "execution_count": 3,
     "metadata": {},
     "output_type": "execute_result"
    }
   ],
   "source": [
    "Startpoint = np.where(ExampleData.iloc[:,0].values==0.02)[0][0]\n",
    "Endpoint = np.where(ExampleData.iloc[:,0].values==0.04)[0][0]\n",
    "Startpoint, Endpoint"
   ]
  },
  {
   "cell_type": "code",
   "execution_count": 4,
   "metadata": {},
   "outputs": [
    {
     "data": {
      "text/html": [
       "<div>\n",
       "<style scoped>\n",
       "    .dataframe tbody tr th:only-of-type {\n",
       "        vertical-align: middle;\n",
       "    }\n",
       "\n",
       "    .dataframe tbody tr th {\n",
       "        vertical-align: top;\n",
       "    }\n",
       "\n",
       "    .dataframe thead th {\n",
       "        text-align: right;\n",
       "    }\n",
       "</style>\n",
       "<table border=\"1\" class=\"dataframe\">\n",
       "  <thead>\n",
       "    <tr style=\"text-align: right;\">\n",
       "      <th></th>\n",
       "      <th>1</th>\n",
       "      <th>2</th>\n",
       "      <th>3</th>\n",
       "    </tr>\n",
       "  </thead>\n",
       "  <tbody>\n",
       "    <tr>\n",
       "      <td>0</td>\n",
       "      <td>0.016440</td>\n",
       "      <td>-0.014200</td>\n",
       "      <td>0.001433</td>\n",
       "    </tr>\n",
       "    <tr>\n",
       "      <td>1</td>\n",
       "      <td>0.013822</td>\n",
       "      <td>-0.015707</td>\n",
       "      <td>0.001504</td>\n",
       "    </tr>\n",
       "    <tr>\n",
       "      <td>2</td>\n",
       "      <td>0.019431</td>\n",
       "      <td>-0.016963</td>\n",
       "      <td>0.001433</td>\n",
       "    </tr>\n",
       "    <tr>\n",
       "      <td>3</td>\n",
       "      <td>0.003726</td>\n",
       "      <td>-0.017248</td>\n",
       "      <td>0.001549</td>\n",
       "    </tr>\n",
       "    <tr>\n",
       "      <td>4</td>\n",
       "      <td>0.022049</td>\n",
       "      <td>-0.009840</td>\n",
       "      <td>0.001864</td>\n",
       "    </tr>\n",
       "    <tr>\n",
       "      <td>...</td>\n",
       "      <td>...</td>\n",
       "      <td>...</td>\n",
       "      <td>...</td>\n",
       "    </tr>\n",
       "    <tr>\n",
       "      <td>2769</td>\n",
       "      <td>0.077392</td>\n",
       "      <td>0.002404</td>\n",
       "      <td>0.003453</td>\n",
       "    </tr>\n",
       "    <tr>\n",
       "      <td>2770</td>\n",
       "      <td>0.030276</td>\n",
       "      <td>0.003952</td>\n",
       "      <td>0.003498</td>\n",
       "    </tr>\n",
       "    <tr>\n",
       "      <td>2771</td>\n",
       "      <td>0.017188</td>\n",
       "      <td>0.005504</td>\n",
       "      <td>0.003397</td>\n",
       "    </tr>\n",
       "    <tr>\n",
       "      <td>2772</td>\n",
       "      <td>0.037754</td>\n",
       "      <td>-0.000108</td>\n",
       "      <td>0.003506</td>\n",
       "    </tr>\n",
       "    <tr>\n",
       "      <td>2773</td>\n",
       "      <td>-0.016093</td>\n",
       "      <td>-0.001652</td>\n",
       "      <td>0.003600</td>\n",
       "    </tr>\n",
       "  </tbody>\n",
       "</table>\n",
       "<p>2774 rows × 3 columns</p>\n",
       "</div>"
      ],
      "text/plain": [
       "             1         2         3\n",
       "0     0.016440 -0.014200  0.001433\n",
       "1     0.013822 -0.015707  0.001504\n",
       "2     0.019431 -0.016963  0.001433\n",
       "3     0.003726 -0.017248  0.001549\n",
       "4     0.022049 -0.009840  0.001864\n",
       "...        ...       ...       ...\n",
       "2769  0.077392  0.002404  0.003453\n",
       "2770  0.030276  0.003952  0.003498\n",
       "2771  0.017188  0.005504  0.003397\n",
       "2772  0.037754 -0.000108  0.003506\n",
       "2773 -0.016093 -0.001652  0.003600\n",
       "\n",
       "[2774 rows x 3 columns]"
      ]
     },
     "execution_count": 4,
     "metadata": {},
     "output_type": "execute_result"
    }
   ],
   "source": [
    "SensorDataOnly = ExampleData.iloc[:,1:]\n",
    "SensorDataOnly"
   ]
  },
  {
   "cell_type": "code",
   "execution_count": 7,
   "metadata": {},
   "outputs": [],
   "source": [
    "Data1 = SensorDataOnly.iloc[Startpoint:Endpoint+1,:]\n",
    "path = './HW1/ST55_HW1_1'\n",
    "Data1.to_csv(path, sep=',', header=None, index=None)"
   ]
  },
  {
   "cell_type": "code",
   "execution_count": 5,
   "metadata": {},
   "outputs": [],
   "source": [
    "def rms(a):\n",
    "    return np.sqrt(np.mean(a**2))"
   ]
  },
  {
   "cell_type": "code",
   "execution_count": 26,
   "metadata": {},
   "outputs": [],
   "source": [
    "Data2 = np.zeros((6,Data1.shape[1]))"
   ]
  },
  {
   "cell_type": "code",
   "execution_count": 27,
   "metadata": {},
   "outputs": [
    {
     "data": {
      "text/html": [
       "<div>\n",
       "<style scoped>\n",
       "    .dataframe tbody tr th:only-of-type {\n",
       "        vertical-align: middle;\n",
       "    }\n",
       "\n",
       "    .dataframe tbody tr th {\n",
       "        vertical-align: top;\n",
       "    }\n",
       "\n",
       "    .dataframe thead th {\n",
       "        text-align: right;\n",
       "    }\n",
       "</style>\n",
       "<table border=\"1\" class=\"dataframe\">\n",
       "  <thead>\n",
       "    <tr style=\"text-align: right;\">\n",
       "      <th></th>\n",
       "      <th>0</th>\n",
       "      <th>1</th>\n",
       "      <th>2</th>\n",
       "    </tr>\n",
       "  </thead>\n",
       "  <tbody>\n",
       "    <tr>\n",
       "      <td>0</td>\n",
       "      <td>0.623340</td>\n",
       "      <td>2.799600</td>\n",
       "      <td>4.874800</td>\n",
       "    </tr>\n",
       "    <tr>\n",
       "      <td>1</td>\n",
       "      <td>-0.925510</td>\n",
       "      <td>-2.593700</td>\n",
       "      <td>-4.124400</td>\n",
       "    </tr>\n",
       "    <tr>\n",
       "      <td>2</td>\n",
       "      <td>0.342559</td>\n",
       "      <td>1.166815</td>\n",
       "      <td>2.367379</td>\n",
       "    </tr>\n",
       "    <tr>\n",
       "      <td>3</td>\n",
       "      <td>0.116607</td>\n",
       "      <td>1.346368</td>\n",
       "      <td>5.432494</td>\n",
       "    </tr>\n",
       "    <tr>\n",
       "      <td>4</td>\n",
       "      <td>0.341477</td>\n",
       "      <td>1.160331</td>\n",
       "      <td>2.330771</td>\n",
       "    </tr>\n",
       "    <tr>\n",
       "      <td>5</td>\n",
       "      <td>-0.027209</td>\n",
       "      <td>0.122835</td>\n",
       "      <td>0.414717</td>\n",
       "    </tr>\n",
       "  </tbody>\n",
       "</table>\n",
       "</div>"
      ],
      "text/plain": [
       "          0         1         2\n",
       "0  0.623340  2.799600  4.874800\n",
       "1 -0.925510 -2.593700 -4.124400\n",
       "2  0.342559  1.166815  2.367379\n",
       "3  0.116607  1.346368  5.432494\n",
       "4  0.341477  1.160331  2.330771\n",
       "5 -0.027209  0.122835  0.414717"
      ]
     },
     "execution_count": 27,
     "metadata": {},
     "output_type": "execute_result"
    }
   ],
   "source": [
    "for i in range(3):\n",
    "                 \n",
    "    Data2[0,i] = np.max(Data1.iloc[:,i])\n",
    "    Data2[1,i] = np.min(Data1.iloc[:,i])\n",
    "    Data2[2,i] =    rms(Data1.iloc[:,i])\n",
    "    Data2[3,i] = np.var(Data1.iloc[:,i])\n",
    "    Data2[4,i] = np.std(Data1.iloc[:,i])\n",
    "    Data2[5,i] = np.mean(Data1.iloc[:,i])\n",
    "Data2=pd.DataFrame(Data2)\n",
    "Data2"
   ]
  },
  {
   "cell_type": "code",
   "execution_count": 28,
   "metadata": {},
   "outputs": [],
   "source": [
    "path = './HW1/ST55_HW1_2'\n",
    "Data2.to_csv(path, sep=',', header=None, index=None)"
   ]
  },
  {
   "cell_type": "code",
   "execution_count": null,
   "metadata": {},
   "outputs": [],
   "source": []
  }
 ],
 "metadata": {
  "kernelspec": {
   "display_name": "Python 3",
   "language": "python",
   "name": "python3"
  },
  "language_info": {
   "codemirror_mode": {
    "name": "ipython",
    "version": 3
   },
   "file_extension": ".py",
   "mimetype": "text/x-python",
   "name": "python",
   "nbconvert_exporter": "python",
   "pygments_lexer": "ipython3",
   "version": "3.6.9"
  }
 },
 "nbformat": 4,
 "nbformat_minor": 4
}
