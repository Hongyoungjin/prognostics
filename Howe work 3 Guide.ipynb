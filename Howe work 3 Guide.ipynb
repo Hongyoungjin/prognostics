{
 "cells": [
  {
   "cell_type": "markdown",
   "metadata": {},
   "source": [
    "### ****** 필독 !! 실습과제 주의사항 ******"
   ]
  },
  {
   "cell_type": "markdown",
   "metadata": {},
   "source": [
    "- 각자의 \"수강생 번호\" 확인 (아이캠퍼스 공지) \n",
    "- 제출하는 실습과제 파일에 \"수강생 번호\"를 기준으로 작성 (이름, 학번 등 작성X)\n",
    "- 각 실습과제에 대한 구체적인 파일 이름은 매번 개별 안내 \n",
    "  (수강생 번호 123번 학생 과제파일 예시 : 'ST123_HW3_1' )\n",
    "  \n",
    "- 과제 파일이름 양식 지키지 않을 시 감점!"
   ]
  },
  {
   "cell_type": "markdown",
   "metadata": {},
   "source": [
    "# [실습 과제 3]"
   ]
  },
  {
   "cell_type": "markdown",
   "metadata": {},
   "source": [
    "## 0. K-Fold데이터를 K=4로 분할 후 진행 (TestData는 실습과정과 동일)\n",
    "#### >>>>>> 위 과정을 진행한 후 실습과제 3_1과 3_2를 진행\n",
    "#### >>>>>> <font color=red>해당 과정을 진행하지 않아 정확도가 달라질 경우 0점 처리</font>\n",
    "#### >>>>>> 아래 실습과제의 두가지 머신러닝 모델은 TestData를 통해 정확도를 평가하여 모범답안의 정확도와 같다면 정답 처리"
   ]
  },
  {
   "cell_type": "markdown",
   "metadata": {},
   "source": [
    "## 1. KNN의 Parameter를 아래와 같이 변경 후 Training_Fold1만 이용하여 학습\n",
    "#### >>>>>> KNN의 Parameter 중 <font color=red>n_neighbors는 11</font>, <font color=red>p = 1</font>, <font color=red>weights는 distance</font>로 변경\n",
    "#### >>>>>> Parameter 설정법은 sklearn 공식 홈페이지에서 확인\n",
    "#### >>>>>> 학습된 모델을 저장 후 제출\n",
    "#### >>>>>> 모델 이름 : ST(수강생 번호)_HW3_1.plk  (예시 : 'ST00_HW3_1.plk'  //  'ST0_HW3_1.plk')\n",
    "#### >>>>>> 데이터 파일 이름 중 'ST' , 'HW' 등 영어는 모두 대문자"
   ]
  },
  {
   "cell_type": "markdown",
   "metadata": {},
   "source": [
    " "
   ]
  },
  {
   "cell_type": "markdown",
   "metadata": {},
   "source": [
    "## 2. SVM의 Parameter를 아래와 같이 변경 후 Training_All을 이용하여 학습\n",
    "#### >>>>>> SVM의 Parameter 중 <font color=red>kernel은 poly</font>, <font color=red>degree는 1</font>, <font color=red>gamma는 auto</font>로 변경\n",
    "#### >>>>>> Parameter 설정법은 sklearn 공식 홈페이지에서 확인\n",
    "#### >>>>>> 학습된 모델을 저장 후 제출\n",
    "#### >>>>>> 모델 이름 : ST(수강생 번호)_HW3_2.plk  (예시 : 'ST00_HW3_2.plk'  //  'ST0_HW3_2.plk')\n",
    "#### >>>>>> 데이터 파일 이름 중 'ST' , 'HW' 등 영어는 모두 대문자"
   ]
  },
  {
   "cell_type": "markdown",
   "metadata": {},
   "source": [
    "## ***** 두가지의 학습된 모델을 zip파일로 압축하여 제출\n",
    "### >>> 압축파일 이름 ST(수강생 번호)_HW3 (예시 : 'ST00_HW3'  //  'ST0_HW3')"
   ]
  },
  {
   "cell_type": "markdown",
   "metadata": {},
   "source": [
    ".\n",
    "\n",
    ".\n",
    "\n",
    "."
   ]
  },
  {
   "cell_type": "markdown",
   "metadata": {},
   "source": [
    "### ****** 실습과제 주의사항 ******\n",
    "#### >>>>>> 실습과제 진행 후 다음 실습을 위해 <font color=red>K=5인 K-Fold Data</font>로 재 분할\n",
    "#### >>>>>> 위 과정을 이행하지 않으면 머신러닝 실습코드 2_2가 정상적으로 작동하지 않을 수 있음."
   ]
  }
 ],
 "metadata": {
  "kernelspec": {
   "display_name": "Python 3",
   "language": "python",
   "name": "python3"
  },
  "language_info": {
   "codemirror_mode": {
    "name": "ipython",
    "version": 3
   },
   "file_extension": ".py",
   "mimetype": "text/x-python",
   "name": "python",
   "nbconvert_exporter": "python",
   "pygments_lexer": "ipython3",
   "version": "3.7.4"
  }
 },
 "nbformat": 4,
 "nbformat_minor": 4
}
