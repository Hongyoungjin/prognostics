{
 "cells": [
  {
   "cell_type": "code",
   "execution_count": null,
   "metadata": {},
   "outputs": [],
   "source": [
    "%matplotlib                    # Pyplot 그래프 새창에서 열기 옵션"
   ]
  },
  {
   "cell_type": "code",
   "execution_count": null,
   "metadata": {},
   "outputs": [],
   "source": [
    "%matplotlib inline             # Pyplot 그래프 새창에서 열기 '취소' 옵션"
   ]
  },
  {
   "cell_type": "code",
   "execution_count": 2,
   "metadata": {},
   "outputs": [],
   "source": [
    "pd.set_option('display.max_rows',    100)      # DataFrame 데이터 확인 시 최대 표시 행 수\n",
    "pd.set_option('display.max_columns', 100)      # DataFrame 데이터 확인 시 최대 표시 열 수"
   ]
  },
  {
   "cell_type": "markdown",
   "metadata": {},
   "source": [
    "## 라이브러리 import"
   ]
  },
  {
   "cell_type": "code",
   "execution_count": 3,
   "metadata": {},
   "outputs": [],
   "source": [
    "import pandas as pd\n",
    "import numpy as np\n",
    "import matplotlib.pyplot as plt\n",
    "import tensorflow as tf"
   ]
  },
  {
   "cell_type": "markdown",
   "metadata": {},
   "source": [
    "## 데이터 (최종 선택된 특징데이터) 불러오기"
   ]
  },
  {
   "cell_type": "code",
   "execution_count": 4,
   "metadata": {},
   "outputs": [
    {
     "data": {
      "text/plain": [
       "(360, 5)"
      ]
     },
     "execution_count": 4,
     "metadata": {},
     "output_type": "execute_result"
    }
   ],
   "source": [
    "FeatureSelected = pd.read_csv('./ProcessedData/FeatureSelected', sep=',', header=None)\n",
    "FeatureSelected = pd.DataFrame(np.transpose(FeatureSelected))\n",
    "FeatureSelected.shape"
   ]
  },
  {
   "cell_type": "markdown",
   "metadata": {},
   "source": [
    "## 학습/검증 데이터와 평가 데이터 분할"
   ]
  },
  {
   "cell_type": "markdown",
   "metadata": {},
   "source": [
    "Fold별 데이터 분할 용이하도록 데이터 Reshape"
   ]
  },
  {
   "cell_type": "code",
   "execution_count": 5,
   "metadata": {},
   "outputs": [
    {
     "name": "stdout",
     "output_type": "stream",
     "text": [
      "180 5\n"
     ]
    }
   ],
   "source": [
    "NoOfData   = int(FeatureSelected.shape[0]/2)   # 데이터 개수 (정상/고장 각각)\n",
    "FeatNo     = int(FeatureSelected.shape[1])     # 데이터 특징 수 (=데이터 차원)\n",
    "\n",
    "print(NoOfData, FeatNo)"
   ]
  },
  {
   "cell_type": "code",
   "execution_count": 6,
   "metadata": {},
   "outputs": [
    {
     "data": {
      "text/plain": [
       "(180, 10)"
      ]
     },
     "execution_count": 6,
     "metadata": {},
     "output_type": "execute_result"
    }
   ],
   "source": [
    "NormalSet   = np.array(FeatureSelected.iloc[:NoOfData , :])\n",
    "AbnormalSet = np.array(FeatureSelected.iloc[NoOfData: , :])\n",
    "FeatureSelected_Reshaped = pd.DataFrame(np.concatenate([NormalSet , AbnormalSet] , axis=1))\n",
    "FeatureSelected_Reshaped.shape"
   ]
  },
  {
   "cell_type": "markdown",
   "metadata": {},
   "source": [
    "학습/검증 데이터를 160개, 평가 데이터를 20개로 분할"
   ]
  },
  {
   "cell_type": "code",
   "execution_count": 7,
   "metadata": {},
   "outputs": [
    {
     "name": "stdout",
     "output_type": "stream",
     "text": [
      "(160, 10) (20, 10)\n"
     ]
    }
   ],
   "source": [
    "Train_Valid_Data =  FeatureSelected_Reshaped.iloc[:-20, :]\n",
    "temp_Test_Data = FeatureSelected_Reshaped.iloc[-20:, :]\n",
    "\n",
    "print(Train_Valid_Data.shape, temp_Test_Data.shape)"
   ]
  },
  {
   "cell_type": "code",
   "execution_count": 8,
   "metadata": {},
   "outputs": [
    {
     "data": {
      "text/plain": [
       "(40, 5)"
      ]
     },
     "execution_count": 8,
     "metadata": {},
     "output_type": "execute_result"
    }
   ],
   "source": [
    "Test_Data = pd.DataFrame(np.concatenate([temp_Test_Data.iloc[:,:FeatNo], temp_Test_Data.iloc[:,FeatNo:]], axis = 0))\n",
    "Test_Data.shape"
   ]
  },
  {
   "cell_type": "markdown",
   "metadata": {},
   "source": [
    "## K값에 맞춰 Fold별 학습/검증 데이터 분할"
   ]
  },
  {
   "cell_type": "markdown",
   "metadata": {},
   "source": [
    "K값(Fold개수), 데이터 개수(정상/고장 각각), 특징 수(=데이터 차원) 정의하여 '1개 Fold의 (검증)데이터 개수' 계산"
   ]
  },
  {
   "cell_type": "code",
   "execution_count": 9,
   "metadata": {
    "scrolled": false
   },
   "outputs": [
    {
     "name": "stdout",
     "output_type": "stream",
     "text": [
      "32\n"
     ]
    }
   ],
   "source": [
    "NoOfTrainData = Train_Valid_Data.shape[0]\n",
    "\n",
    "Fold       = 5                                 # Fold 개수 선정 : 데이터 개수의 약수여야 함.\n",
    "FoldDataNo = int(NoOfTrainData/Fold)           # 1개 Fold 당 (검증)데이터 개수\n",
    "print(FoldDataNo)"
   ]
  },
  {
   "cell_type": "markdown",
   "metadata": {},
   "source": [
    "Fold별 데이터 분할 (정상/고장 데이터 동일하게 분포하도록)"
   ]
  },
  {
   "cell_type": "code",
   "execution_count": 10,
   "metadata": {},
   "outputs": [],
   "source": [
    "# Validation Data set\n",
    "for i in range(Fold):\n",
    "    \n",
    "    temp_Valid_Normal   = Train_Valid_Data.iloc[FoldDataNo*i : FoldDataNo*(i+1), :FeatNo]\n",
    "    temp_Valid_Abnormal = Train_Valid_Data.iloc[FoldDataNo*i : FoldDataNo*(i+1), FeatNo:]\n",
    "    temp_Valid = pd.DataFrame(np.concatenate([temp_Valid_Normal, temp_Valid_Abnormal] , axis=0))\n",
    "    \n",
    "    s = 'Validation_Fold%d = temp_Valid'%(i+1)\n",
    "    exec(s)\n",
    "\n",
    "    \n",
    "# Training Data set\n",
    "for i in range(Fold):\n",
    "    \n",
    "    temp_Train_Front = Train_Valid_Data.iloc[:FoldDataNo*i, :]\n",
    "    temp_Train_Back  = Train_Valid_Data.iloc[FoldDataNo*(i+1):, :]\n",
    "    temp_Train_Total = np.concatenate([temp_Train_Front , temp_Train_Back] , axis=0)\n",
    "    temp_Train_Final = pd.DataFrame(np.concatenate([temp_Train_Total[:, :FeatNo],temp_Train_Total[:, FeatNo:]] , axis=0))\n",
    "    \n",
    "    s ='Training_Fold%d  = temp_Train_Final'%(i+1)\n",
    "    exec(s)\n"
   ]
  },
  {
   "cell_type": "markdown",
   "metadata": {},
   "source": [
    "데이터 분할 결과(shape) 확인"
   ]
  },
  {
   "cell_type": "code",
   "execution_count": 11,
   "metadata": {},
   "outputs": [
    {
     "data": {
      "text/plain": [
       "((64, 5), (256, 5))"
      ]
     },
     "execution_count": 11,
     "metadata": {},
     "output_type": "execute_result"
    }
   ],
   "source": [
    "Validation_Fold1.shape, Training_Fold1.shape"
   ]
  },
  {
   "cell_type": "markdown",
   "metadata": {},
   "source": [
    "## Fold 별 학습/검증 데이터, 평가 데이터 개수에 맞춰 Labeling"
   ]
  },
  {
   "cell_type": "markdown",
   "metadata": {},
   "source": [
    "Fold별 학습/검증 데이터 및 평가 데이터 개수 확인"
   ]
  },
  {
   "cell_type": "code",
   "execution_count": 12,
   "metadata": {},
   "outputs": [
    {
     "name": "stdout",
     "output_type": "stream",
     "text": [
      "128\n",
      "32\n",
      "20\n"
     ]
    }
   ],
   "source": [
    "NoOfLabel_Train = int(Training_Fold1.shape[0]/2)\n",
    "NoOfLabel_Valid = int(Validation_Fold1.shape[0]/2)\n",
    "NoOfLabel_Test  = int(Test_Data.shape[0]/2)\n",
    "\n",
    "print(NoOfLabel_Train)\n",
    "print(NoOfLabel_Valid)\n",
    "print(NoOfLabel_Test)"
   ]
  },
  {
   "cell_type": "markdown",
   "metadata": {},
   "source": [
    "#### (1) KNN & SVM 레이블 - 정상: 0 // 고장: 1"
   ]
  },
  {
   "cell_type": "code",
   "execution_count": 13,
   "metadata": {},
   "outputs": [
    {
     "data": {
      "text/plain": [
       "0     0\n",
       "1     0\n",
       "2     0\n",
       "3     0\n",
       "4     0\n",
       "5     0\n",
       "6     0\n",
       "7     0\n",
       "8     0\n",
       "9     0\n",
       "10    0\n",
       "11    0\n",
       "12    0\n",
       "13    0\n",
       "14    0\n",
       "15    0\n",
       "16    0\n",
       "17    0\n",
       "18    0\n",
       "19    0\n",
       "20    0\n",
       "21    0\n",
       "22    0\n",
       "23    0\n",
       "24    0\n",
       "25    0\n",
       "26    0\n",
       "27    0\n",
       "28    0\n",
       "29    0\n",
       "30    0\n",
       "31    0\n",
       "32    1\n",
       "33    1\n",
       "34    1\n",
       "35    1\n",
       "36    1\n",
       "37    1\n",
       "38    1\n",
       "39    1\n",
       "40    1\n",
       "41    1\n",
       "42    1\n",
       "43    1\n",
       "44    1\n",
       "45    1\n",
       "46    1\n",
       "47    1\n",
       "48    1\n",
       "49    1\n",
       "50    1\n",
       "51    1\n",
       "52    1\n",
       "53    1\n",
       "54    1\n",
       "55    1\n",
       "56    1\n",
       "57    1\n",
       "58    1\n",
       "59    1\n",
       "60    1\n",
       "61    1\n",
       "62    1\n",
       "63    1\n",
       "dtype: int32"
      ]
     },
     "execution_count": 13,
     "metadata": {},
     "output_type": "execute_result"
    }
   ],
   "source": [
    "TrainingFold_Label   = np.zeros(2*NoOfLabel_Train , dtype=int)\n",
    "ValidationFold_Label = np.zeros(2*NoOfLabel_Valid , dtype=int)\n",
    "Test_Label           = np.zeros(2*NoOfLabel_Test  , dtype=int)\n",
    "\n",
    "# 고장데이터(학습용) Label 값 = 1\n",
    "TrainingFold_Label[NoOfLabel_Train:] = 1\n",
    "\n",
    "# 고장데이터(검증용) Label 값 = 1\n",
    "ValidationFold_Label[NoOfLabel_Valid:] = 1\n",
    "\n",
    "# 고장데이터(평가용) Label 값 = 1\n",
    "Test_Label[NoOfLabel_Test:] = 1\n",
    "\n",
    "TrainingFold_Label   = pd.Series(TrainingFold_Label)\n",
    "ValidationFold_Label = pd.Series(ValidationFold_Label)\n",
    "Test_Label           = pd.Series(Test_Label)\n",
    "\n",
    "#TrainingFold_Label\n",
    "ValidationFold_Label"
   ]
  },
  {
   "cell_type": "markdown",
   "metadata": {},
   "source": [
    "#### (2) ANN 레이블 (One-hot encoding) - 정상: [1, 0] // 고장: [0, 1]"
   ]
  },
  {
   "cell_type": "code",
   "execution_count": 14,
   "metadata": {
    "scrolled": true
   },
   "outputs": [
    {
     "data": {
      "text/html": [
       "<div>\n",
       "<style scoped>\n",
       "    .dataframe tbody tr th:only-of-type {\n",
       "        vertical-align: middle;\n",
       "    }\n",
       "\n",
       "    .dataframe tbody tr th {\n",
       "        vertical-align: top;\n",
       "    }\n",
       "\n",
       "    .dataframe thead th {\n",
       "        text-align: right;\n",
       "    }\n",
       "</style>\n",
       "<table border=\"1\" class=\"dataframe\">\n",
       "  <thead>\n",
       "    <tr style=\"text-align: right;\">\n",
       "      <th></th>\n",
       "      <th>0</th>\n",
       "      <th>1</th>\n",
       "    </tr>\n",
       "  </thead>\n",
       "  <tbody>\n",
       "    <tr>\n",
       "      <td>0</td>\n",
       "      <td>1</td>\n",
       "      <td>0</td>\n",
       "    </tr>\n",
       "    <tr>\n",
       "      <td>1</td>\n",
       "      <td>1</td>\n",
       "      <td>0</td>\n",
       "    </tr>\n",
       "    <tr>\n",
       "      <td>2</td>\n",
       "      <td>1</td>\n",
       "      <td>0</td>\n",
       "    </tr>\n",
       "    <tr>\n",
       "      <td>3</td>\n",
       "      <td>1</td>\n",
       "      <td>0</td>\n",
       "    </tr>\n",
       "    <tr>\n",
       "      <td>4</td>\n",
       "      <td>1</td>\n",
       "      <td>0</td>\n",
       "    </tr>\n",
       "    <tr>\n",
       "      <td>5</td>\n",
       "      <td>1</td>\n",
       "      <td>0</td>\n",
       "    </tr>\n",
       "    <tr>\n",
       "      <td>6</td>\n",
       "      <td>1</td>\n",
       "      <td>0</td>\n",
       "    </tr>\n",
       "    <tr>\n",
       "      <td>7</td>\n",
       "      <td>1</td>\n",
       "      <td>0</td>\n",
       "    </tr>\n",
       "    <tr>\n",
       "      <td>8</td>\n",
       "      <td>1</td>\n",
       "      <td>0</td>\n",
       "    </tr>\n",
       "    <tr>\n",
       "      <td>9</td>\n",
       "      <td>1</td>\n",
       "      <td>0</td>\n",
       "    </tr>\n",
       "    <tr>\n",
       "      <td>10</td>\n",
       "      <td>1</td>\n",
       "      <td>0</td>\n",
       "    </tr>\n",
       "    <tr>\n",
       "      <td>11</td>\n",
       "      <td>1</td>\n",
       "      <td>0</td>\n",
       "    </tr>\n",
       "    <tr>\n",
       "      <td>12</td>\n",
       "      <td>1</td>\n",
       "      <td>0</td>\n",
       "    </tr>\n",
       "    <tr>\n",
       "      <td>13</td>\n",
       "      <td>1</td>\n",
       "      <td>0</td>\n",
       "    </tr>\n",
       "    <tr>\n",
       "      <td>14</td>\n",
       "      <td>1</td>\n",
       "      <td>0</td>\n",
       "    </tr>\n",
       "    <tr>\n",
       "      <td>15</td>\n",
       "      <td>1</td>\n",
       "      <td>0</td>\n",
       "    </tr>\n",
       "    <tr>\n",
       "      <td>16</td>\n",
       "      <td>1</td>\n",
       "      <td>0</td>\n",
       "    </tr>\n",
       "    <tr>\n",
       "      <td>17</td>\n",
       "      <td>1</td>\n",
       "      <td>0</td>\n",
       "    </tr>\n",
       "    <tr>\n",
       "      <td>18</td>\n",
       "      <td>1</td>\n",
       "      <td>0</td>\n",
       "    </tr>\n",
       "    <tr>\n",
       "      <td>19</td>\n",
       "      <td>1</td>\n",
       "      <td>0</td>\n",
       "    </tr>\n",
       "    <tr>\n",
       "      <td>20</td>\n",
       "      <td>0</td>\n",
       "      <td>1</td>\n",
       "    </tr>\n",
       "    <tr>\n",
       "      <td>21</td>\n",
       "      <td>0</td>\n",
       "      <td>1</td>\n",
       "    </tr>\n",
       "    <tr>\n",
       "      <td>22</td>\n",
       "      <td>0</td>\n",
       "      <td>1</td>\n",
       "    </tr>\n",
       "    <tr>\n",
       "      <td>23</td>\n",
       "      <td>0</td>\n",
       "      <td>1</td>\n",
       "    </tr>\n",
       "    <tr>\n",
       "      <td>24</td>\n",
       "      <td>0</td>\n",
       "      <td>1</td>\n",
       "    </tr>\n",
       "    <tr>\n",
       "      <td>25</td>\n",
       "      <td>0</td>\n",
       "      <td>1</td>\n",
       "    </tr>\n",
       "    <tr>\n",
       "      <td>26</td>\n",
       "      <td>0</td>\n",
       "      <td>1</td>\n",
       "    </tr>\n",
       "    <tr>\n",
       "      <td>27</td>\n",
       "      <td>0</td>\n",
       "      <td>1</td>\n",
       "    </tr>\n",
       "    <tr>\n",
       "      <td>28</td>\n",
       "      <td>0</td>\n",
       "      <td>1</td>\n",
       "    </tr>\n",
       "    <tr>\n",
       "      <td>29</td>\n",
       "      <td>0</td>\n",
       "      <td>1</td>\n",
       "    </tr>\n",
       "    <tr>\n",
       "      <td>30</td>\n",
       "      <td>0</td>\n",
       "      <td>1</td>\n",
       "    </tr>\n",
       "    <tr>\n",
       "      <td>31</td>\n",
       "      <td>0</td>\n",
       "      <td>1</td>\n",
       "    </tr>\n",
       "    <tr>\n",
       "      <td>32</td>\n",
       "      <td>0</td>\n",
       "      <td>1</td>\n",
       "    </tr>\n",
       "    <tr>\n",
       "      <td>33</td>\n",
       "      <td>0</td>\n",
       "      <td>1</td>\n",
       "    </tr>\n",
       "    <tr>\n",
       "      <td>34</td>\n",
       "      <td>0</td>\n",
       "      <td>1</td>\n",
       "    </tr>\n",
       "    <tr>\n",
       "      <td>35</td>\n",
       "      <td>0</td>\n",
       "      <td>1</td>\n",
       "    </tr>\n",
       "    <tr>\n",
       "      <td>36</td>\n",
       "      <td>0</td>\n",
       "      <td>1</td>\n",
       "    </tr>\n",
       "    <tr>\n",
       "      <td>37</td>\n",
       "      <td>0</td>\n",
       "      <td>1</td>\n",
       "    </tr>\n",
       "    <tr>\n",
       "      <td>38</td>\n",
       "      <td>0</td>\n",
       "      <td>1</td>\n",
       "    </tr>\n",
       "    <tr>\n",
       "      <td>39</td>\n",
       "      <td>0</td>\n",
       "      <td>1</td>\n",
       "    </tr>\n",
       "  </tbody>\n",
       "</table>\n",
       "</div>"
      ],
      "text/plain": [
       "    0  1\n",
       "0   1  0\n",
       "1   1  0\n",
       "2   1  0\n",
       "3   1  0\n",
       "4   1  0\n",
       "5   1  0\n",
       "6   1  0\n",
       "7   1  0\n",
       "8   1  0\n",
       "9   1  0\n",
       "10  1  0\n",
       "11  1  0\n",
       "12  1  0\n",
       "13  1  0\n",
       "14  1  0\n",
       "15  1  0\n",
       "16  1  0\n",
       "17  1  0\n",
       "18  1  0\n",
       "19  1  0\n",
       "20  0  1\n",
       "21  0  1\n",
       "22  0  1\n",
       "23  0  1\n",
       "24  0  1\n",
       "25  0  1\n",
       "26  0  1\n",
       "27  0  1\n",
       "28  0  1\n",
       "29  0  1\n",
       "30  0  1\n",
       "31  0  1\n",
       "32  0  1\n",
       "33  0  1\n",
       "34  0  1\n",
       "35  0  1\n",
       "36  0  1\n",
       "37  0  1\n",
       "38  0  1\n",
       "39  0  1"
      ]
     },
     "execution_count": 14,
     "metadata": {},
     "output_type": "execute_result"
    }
   ],
   "source": [
    "TrainingFold_Label_forANN   = np.zeros((NoOfLabel_Train*2,2) , dtype=int)\n",
    "ValidationFold_Label_forANN = np.zeros((NoOfLabel_Valid*2,2) , dtype=int)\n",
    "Test_Label_forANN           = np.zeros((NoOfLabel_Test *2,2) , dtype=int)\n",
    "\n",
    "TrainingFold_Label_forANN[:NoOfLabel_Train , 0] = 1    # 정상(학습)데이터 레이블 : [1,0]\n",
    "TrainingFold_Label_forANN[NoOfLabel_Train: , 1] = 1    # 고장(학습)데이터 레이블 : [0,1]\n",
    "\n",
    "ValidationFold_Label_forANN[:NoOfLabel_Valid , 0] = 1  # 정상(검증)데이터 레이블 : [1,0]\n",
    "ValidationFold_Label_forANN[NoOfLabel_Valid: , 1] = 1  # 고장(검증)데이터 레이블 : [0,1]\n",
    "\n",
    "Test_Label_forANN[:NoOfLabel_Test , 0] = 1\n",
    "Test_Label_forANN[NoOfLabel_Test :, 1] = 1\n",
    "\n",
    "TrainingFold_Label_forANN   = pd.DataFrame(TrainingFold_Label_forANN)\n",
    "ValidationFold_Label_forANN = pd.DataFrame(ValidationFold_Label_forANN)\n",
    "Test_Label_forANN           = pd.DataFrame(Test_Label_forANN)\n",
    "\n",
    "Test_Label_forANN\n",
    "#ValidationFold_Label_forANN"
   ]
  },
  {
   "cell_type": "markdown",
   "metadata": {},
   "source": [
    "## k-fold 데이터 및 레이블 저장"
   ]
  },
  {
   "cell_type": "markdown",
   "metadata": {},
   "source": [
    "k-fold 데이터 (Training & Validation) 저장"
   ]
  },
  {
   "cell_type": "code",
   "execution_count": 15,
   "metadata": {
    "scrolled": true
   },
   "outputs": [],
   "source": [
    "for i in range(Fold):\n",
    "    \n",
    "    path1 = './K_FoldData/Training_Fold%d'  %(i+1)\n",
    "    path2 = './K_FoldData/Validation_Fold%d'%(i+1)\n",
    "    \n",
    "    c1 = 'Training_Fold%d.to_csv(  path1, sep = \",\", header = None, index = None)'%(i+1)\n",
    "    c2 = 'Validation_Fold%d.to_csv(path2, sep = \",\", header = None, index = None)'%(i+1)\n",
    "    exec(c1)\n",
    "    exec(c2)\n",
    "    \n",
    "Test_Data.to_csv('./K_FoldData/Test_Data', sep = \",\", header = None, index = None)"
   ]
  },
  {
   "cell_type": "markdown",
   "metadata": {},
   "source": [
    "레이블 (Training & Validation) 저장"
   ]
  },
  {
   "cell_type": "code",
   "execution_count": 16,
   "metadata": {},
   "outputs": [
    {
     "name": "stderr",
     "output_type": "stream",
     "text": [
      "C:\\Users\\erich\\Anaconda3\\lib\\site-packages\\ipykernel_launcher.py:1: FutureWarning: The signature of `Series.to_csv` was aligned to that of `DataFrame.to_csv`, and argument 'header' will change its default value from False to True: please pass an explicit value to suppress this warning.\n",
      "  \"\"\"Entry point for launching an IPython kernel.\n",
      "C:\\Users\\erich\\Anaconda3\\lib\\site-packages\\ipykernel_launcher.py:2: FutureWarning: The signature of `Series.to_csv` was aligned to that of `DataFrame.to_csv`, and argument 'header' will change its default value from False to True: please pass an explicit value to suppress this warning.\n",
      "  \n",
      "C:\\Users\\erich\\Anaconda3\\lib\\site-packages\\ipykernel_launcher.py:3: FutureWarning: The signature of `Series.to_csv` was aligned to that of `DataFrame.to_csv`, and argument 'header' will change its default value from False to True: please pass an explicit value to suppress this warning.\n",
      "  This is separate from the ipykernel package so we can avoid doing imports until\n"
     ]
    }
   ],
   "source": [
    "TrainingFold_Label.to_csv(  './K_FoldData/TrainingFold_Label', header = None, index = None)\n",
    "ValidationFold_Label.to_csv('./K_FoldData/ValidationFold_Label', header = None, index = None)\n",
    "Test_Label.to_csv(          './K_FoldData/Test_Label', header = None, index = None)\n",
    "\n",
    "TrainingFold_Label_forANN.to_csv(  './K_FoldData/TrainingFold_Label_forANN', sep = \",\", header = None, index = None)\n",
    "ValidationFold_Label_forANN.to_csv('./K_FoldData/ValidationFold_Label_forANN', sep = \",\", header = None, index = None)\n",
    "Test_Label_forANN.to_csv(          './K_FoldData/Test_Label_forANN', sep = \",\", header = None, index = None)"
   ]
  },
  {
   "cell_type": "markdown",
   "metadata": {},
   "source": [
    "## 최종 AI모델 학습용 전체 데이터 및 레이블 저장"
   ]
  },
  {
   "cell_type": "markdown",
   "metadata": {},
   "source": [
    "전체 데이터 저장"
   ]
  },
  {
   "cell_type": "code",
   "execution_count": 17,
   "metadata": {},
   "outputs": [],
   "source": [
    "Normal_Training_All   = Train_Valid_Data.iloc[:,:FeatNo]\n",
    "Abnormal_Training_All = Train_Valid_Data.iloc[:,FeatNo:]"
   ]
  },
  {
   "cell_type": "code",
   "execution_count": 18,
   "metadata": {},
   "outputs": [
    {
     "data": {
      "text/plain": [
       "((160, 5), (160, 5))"
      ]
     },
     "execution_count": 18,
     "metadata": {},
     "output_type": "execute_result"
    }
   ],
   "source": [
    "Normal_Training_All.shape, Abnormal_Training_All.shape"
   ]
  },
  {
   "cell_type": "code",
   "execution_count": 19,
   "metadata": {},
   "outputs": [
    {
     "data": {
      "text/plain": [
       "(320, 5)"
      ]
     },
     "execution_count": 19,
     "metadata": {},
     "output_type": "execute_result"
    }
   ],
   "source": [
    "Training_All = pd.DataFrame(np.concatenate([Normal_Training_All, Abnormal_Training_All], axis = 0))\n",
    "Training_All.shape"
   ]
  },
  {
   "cell_type": "markdown",
   "metadata": {},
   "source": [
    "#### 전체 데이터 레이블 (1) SVM 및 KNN 맞춤형 (Label encoding)"
   ]
  },
  {
   "cell_type": "code",
   "execution_count": 20,
   "metadata": {},
   "outputs": [
    {
     "data": {
      "text/plain": [
       "(320,)"
      ]
     },
     "execution_count": 20,
     "metadata": {},
     "output_type": "execute_result"
    }
   ],
   "source": [
    "Training_All_Label = np.zeros(NoOfTrainData*2)\n",
    "\n",
    "Training_All_Label[NoOfTrainData:] = 1    # 고장데이터(학습용) Label 값 = 1\n",
    "Training_All_Label = pd.Series(Training_All_Label)\n",
    "\n",
    "Training_All_Label.shape"
   ]
  },
  {
   "cell_type": "markdown",
   "metadata": {},
   "source": [
    "#### 전체 데이터 레이블 (2) ANN 맞춤형 (One-hot encoding)"
   ]
  },
  {
   "cell_type": "code",
   "execution_count": 21,
   "metadata": {},
   "outputs": [
    {
     "data": {
      "text/plain": [
       "(320, 2)"
      ]
     },
     "execution_count": 21,
     "metadata": {},
     "output_type": "execute_result"
    }
   ],
   "source": [
    "Training_All_Label_forANN = np.zeros((NoOfTrainData*2,2))\n",
    "\n",
    "Training_All_Label_forANN[:NoOfTrainData , 0] = 1\n",
    "Training_All_Label_forANN[NoOfTrainData: , 1] = 1\n",
    "Training_All_Label_forANN = pd.DataFrame(Training_All_Label_forANN)\n",
    "\n",
    "Training_All_Label_forANN.shape"
   ]
  },
  {
   "cell_type": "markdown",
   "metadata": {},
   "source": [
    "전체 데이터 & 레이블 저장"
   ]
  },
  {
   "cell_type": "code",
   "execution_count": 22,
   "metadata": {},
   "outputs": [
    {
     "name": "stderr",
     "output_type": "stream",
     "text": [
      "C:\\Users\\erich\\Anaconda3\\lib\\site-packages\\ipykernel_launcher.py:2: FutureWarning: The signature of `Series.to_csv` was aligned to that of `DataFrame.to_csv`, and argument 'header' will change its default value from False to True: please pass an explicit value to suppress this warning.\n",
      "  \n"
     ]
    }
   ],
   "source": [
    "Training_All.to_csv('./K_FoldData/Training_All', sep = \",\", header = None, index = None)\n",
    "Training_All_Label.to_csv('./K_FoldData/Training_All_Label', sep = \",\", header = None, index = None)\n",
    "Training_All_Label_forANN.to_csv('./K_FoldData/Training_All_Label_forANN', sep = \",\", header = None, index = None)"
   ]
  },
  {
   "cell_type": "code",
   "execution_count": null,
   "metadata": {},
   "outputs": [],
   "source": []
  },
  {
   "cell_type": "code",
   "execution_count": 44,
   "metadata": {},
   "outputs": [],
   "source": []
  },
  {
   "cell_type": "code",
   "execution_count": null,
   "metadata": {},
   "outputs": [],
   "source": []
  }
 ],
 "metadata": {
  "kernelspec": {
   "display_name": "Python 3",
   "language": "python",
   "name": "python3"
  },
  "language_info": {
   "codemirror_mode": {
    "name": "ipython",
    "version": 3
   },
   "file_extension": ".py",
   "mimetype": "text/x-python",
   "name": "python",
   "nbconvert_exporter": "python",
   "pygments_lexer": "ipython3",
   "version": "3.7.4"
  }
 },
 "nbformat": 4,
 "nbformat_minor": 2
}
