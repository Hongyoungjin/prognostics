{
 "cells": [
  {
   "cell_type": "code",
   "execution_count": 1,
   "metadata": {},
   "outputs": [
    {
     "name": "stdout",
     "output_type": "stream",
     "text": [
      "Using matplotlib backend: Qt5Agg\n"
     ]
    }
   ],
   "source": [
    "%matplotlib"
   ]
  },
  {
   "cell_type": "code",
   "execution_count": 2,
   "metadata": {},
   "outputs": [],
   "source": [
    "%matplotlib inline"
   ]
  },
  {
   "cell_type": "code",
   "execution_count": 1,
   "metadata": {},
   "outputs": [
    {
     "ename": "NameError",
     "evalue": "name 'pd' is not defined",
     "output_type": "error",
     "traceback": [
      "\u001b[1;31m---------------------------------------------------------------------------\u001b[0m",
      "\u001b[1;31mNameError\u001b[0m                                 Traceback (most recent call last)",
      "\u001b[1;32m<ipython-input-1-fa7c0b7e2ab8>\u001b[0m in \u001b[0;36m<module>\u001b[1;34m\u001b[0m\n\u001b[1;32m----> 1\u001b[1;33m \u001b[0mpd\u001b[0m\u001b[1;33m.\u001b[0m\u001b[0mset_option\u001b[0m\u001b[1;33m(\u001b[0m\u001b[1;34m'display.max_rows'\u001b[0m\u001b[1;33m,\u001b[0m    \u001b[1;36m100\u001b[0m\u001b[1;33m)\u001b[0m      \u001b[1;31m# DataFrame 데이터 확인 시 최대 표시 행 수\u001b[0m\u001b[1;33m\u001b[0m\u001b[1;33m\u001b[0m\u001b[0m\n\u001b[0m\u001b[0;32m      2\u001b[0m \u001b[0mpd\u001b[0m\u001b[1;33m.\u001b[0m\u001b[0mset_option\u001b[0m\u001b[1;33m(\u001b[0m\u001b[1;34m'display.max_columns'\u001b[0m\u001b[1;33m,\u001b[0m \u001b[1;36m100\u001b[0m\u001b[1;33m)\u001b[0m      \u001b[1;31m# DataFrame 데이터 확인 시 최대 표시 열 수\u001b[0m\u001b[1;33m\u001b[0m\u001b[1;33m\u001b[0m\u001b[0m\n",
      "\u001b[1;31mNameError\u001b[0m: name 'pd' is not defined"
     ]
    }
   ],
   "source": [
    "pd.set_option('display.max_rows',    100)      # DataFrame 데이터 확인 시 최대 표시 행 수\n",
    "pd.set_option('display.max_columns', 100)      # DataFrame 데이터 확인 시 최대 표시 열 수"
   ]
  },
  {
   "cell_type": "markdown",
   "metadata": {},
   "source": [
    "## 라이브러리 import"
   ]
  },
  {
   "cell_type": "code",
   "execution_count": 2,
   "metadata": {},
   "outputs": [],
   "source": [
    "import pandas as pd\n",
    "import numpy as np"
   ]
  },
  {
   "cell_type": "code",
   "execution_count": 3,
   "metadata": {},
   "outputs": [
    {
     "data": {
      "text/plain": [
       "'2.0.0'"
      ]
     },
     "execution_count": 3,
     "metadata": {},
     "output_type": "execute_result"
    }
   ],
   "source": [
    "import tensorflow as tf\n",
    "\n",
    "tf.__version__                         # tensorflow 버전 확인"
   ]
  },
  {
   "cell_type": "markdown",
   "metadata": {},
   "source": [
    "Tensorflow v1 기능만 사용 (v2 기능 강제 차단)"
   ]
  },
  {
   "cell_type": "code",
   "execution_count": 4,
   "metadata": {},
   "outputs": [
    {
     "name": "stdout",
     "output_type": "stream",
     "text": [
      "WARNING:tensorflow:From C:\\Users\\erich\\Anaconda3\\lib\\site-packages\\tensorflow_core\\python\\compat\\v2_compat.py:65: disable_resource_variables (from tensorflow.python.ops.variable_scope) is deprecated and will be removed in a future version.\n",
      "Instructions for updating:\n",
      "non-resource variables are not supported in the long term\n"
     ]
    }
   ],
   "source": [
    "import tensorflow.compat.v1 as tf\n",
    "tf.disable_v2_behavior()\n",
    "tf.set_random_seed(777)"
   ]
  },
  {
   "cell_type": "markdown",
   "metadata": {},
   "source": [
    "## 데이터 불러오기"
   ]
  },
  {
   "cell_type": "code",
   "execution_count": 5,
   "metadata": {},
   "outputs": [
    {
     "name": "stdout",
     "output_type": "stream",
     "text": [
      "(256, 5)\n",
      "(64, 5)\n",
      "(256, 2)\n",
      "(64, 2)\n",
      "(320, 5)\n"
     ]
    }
   ],
   "source": [
    "Fold = 4\n",
    "\n",
    "# k-fold 학습/검증 데이터\n",
    "for i in range(Fold):\n",
    "    \n",
    "    path1 = './K_FoldData/Training_Fold%d'%(i+1)\n",
    "    path2 = './K_FoldData/Validation_Fold%d'%(i+1)\n",
    "    c1 = 'Training_Fold%d   = np.array(pd.read_csv(path1, sep=\",\", header=None))'%(i+1)\n",
    "    c2 = 'Validation_Fold%d = np.array(pd.read_csv(path2, sep=\",\", header=None))'%(i+1)\n",
    "    exec(c1)\n",
    "    exec(c2)\n",
    "\n",
    "# K-fold 학습/검증 레이블\n",
    "TrainingFold_Label   = np.array(pd.read_csv('./K_FoldData/TrainingFold_Label_forANN'  , sep=\",\", header=None))\n",
    "ValidationFold_Label = np.array(pd.read_csv('./K_FoldData/ValidationFold_Label_forANN', sep=\",\", header=None))\n",
    "    \n",
    "    \n",
    "# 전체 학습용 데이터\n",
    "Training_All       = np.array(pd.read_csv('./K_FoldData/Training_All', sep = \",\", header = None))\n",
    "Training_All_Label = np.array(pd.read_csv('./K_FoldData/Training_All_Label_forANN', sep = \",\", header = None))\n",
    "\n",
    "print(Training_Fold1.shape)\n",
    "print(Validation_Fold1.shape)\n",
    "print(TrainingFold_Label.shape)\n",
    "print(ValidationFold_Label.shape)\n",
    "print(Training_All.shape)"
   ]
  },
  {
   "cell_type": "markdown",
   "metadata": {},
   "source": [
    "## ANN(Artificial Neural Network) hyperparameter 설정"
   ]
  },
  {
   "cell_type": "code",
   "execution_count": 6,
   "metadata": {},
   "outputs": [],
   "source": [
    "learningRate  = 0.0001\n",
    "noOfNeuron    = 16\n",
    "iteration     = 5000"
   ]
  },
  {
   "cell_type": "markdown",
   "metadata": {},
   "source": [
    "## ANN 구조(Architecture) 설계"
   ]
  },
  {
   "cell_type": "code",
   "execution_count": 7,
   "metadata": {},
   "outputs": [],
   "source": [
    "# input place holders\n",
    "X = tf.placeholder(tf.float32, [None, Training_Fold1.shape[1]])\n",
    "Y = tf.placeholder(tf.float32, [None, 2])\n",
    "\n",
    "# dropout (keep_prob) rate 0.7 on training, but should be 1 for testing\n",
    "keep_prob = tf.placeholder(tf.float32)\n",
    "\n",
    "# weights & bias for nn layers\n",
    "\n",
    "# Input Layer w: weight b: bias l: layer\n",
    "W1 = tf.Variable(tf.random_normal([Training_Fold1.shape[1], noOfNeuron]))\n",
    "b1 = tf.Variable(tf.random_normal([noOfNeuron]))\n",
    "L1 = tf.nn.relu(tf.matmul(X, W1) + b1)\n",
    "\n",
    "# Hidden Layer 1\n",
    "W2 = tf.Variable(tf.random_normal([noOfNeuron, noOfNeuron]))\n",
    "b2 = tf.Variable(tf.random_normal([noOfNeuron]))\n",
    "L2 = tf.nn.relu(tf.matmul(L1, W2) + b2)\n",
    "\n",
    "# Hidden Layer 2\n",
    "W3 = tf.Variable(tf.random_normal([noOfNeuron, noOfNeuron]))\n",
    "b3 = tf.Variable(tf.random_normal([noOfNeuron]))\n",
    "L3 = tf.nn.relu(tf.matmul(L2, W3) + b3)\n",
    "\n",
    "# Output Layer\n",
    "W4 = tf.Variable(tf.random_normal([noOfNeuron, 2]))\n",
    "b4 = tf.Variable(tf.random_normal([2]))\n",
    "hypothesis = tf.matmul(L3, W4) + b4\n",
    "\n",
    "\n",
    "# define cost/loss &optimizer  cost함수, optimizer: 원래는 gradient descent 썼는데 AdamOptimizer가 대세\n",
    "cost      = tf.reduce_mean(tf.nn.softmax_cross_entropy_with_logits_v2(logits=hypothesis, labels=Y))\n",
    "optimizer = tf.train.AdamOptimizer(learning_rate=learningRate).minimize(cost)\n",
    "\n",
    "# Test model and check accuracy\n",
    "correct_prediction = tf.equal(tf.argmax(hypothesis, 1), tf.argmax(Y, 1))\n",
    "accuracy           = tf.reduce_mean(tf.cast(correct_prediction, tf.float32))"
   ]
  },
  {
   "cell_type": "markdown",
   "metadata": {},
   "source": [
    "## NN(Neural Network) 학습 및 평가 방법"
   ]
  },
  {
   "cell_type": "code",
   "execution_count": 8,
   "metadata": {},
   "outputs": [
    {
     "data": {
      "text/plain": [
       "0.515625"
      ]
     },
     "execution_count": 8,
     "metadata": {},
     "output_type": "execute_result"
    }
   ],
   "source": [
    "Data      = Training_Fold1\n",
    "Data_Val  = Validation_Fold1\n",
    "Label     = TrainingFold_Label\n",
    "Label_Val = ValidationFold_Label\n",
    "\n",
    "# session 텐서플로의 그래프 지정\n",
    "sess = tf.Session()\n",
    "sess.run(tf.global_variables_initializer()) # 변수들 초기화\n",
    "\n",
    "for step in range(1, iteration+1): #반복횟수 설정해서 계속 훈련\n",
    "    # x, y는 input data임\n",
    "    c, _ = sess.run([cost, optimizer], feed_dict = {X : Data, Y: Label}) # _ : optimizer. 필요 없어서 이렇게 넣음\n",
    "    \n",
    "\n",
    "Validation_Acc_Fold1= sess.run(accuracy, feed_dict={X : Data_Val, Y: Label_Val})\n",
    "Validation_Acc_Fold1"
   ]
  },
  {
   "cell_type": "markdown",
   "metadata": {},
   "source": [
    "## NN(Neural Network) 학습 및 검증"
   ]
  },
  {
   "cell_type": "code",
   "execution_count": 9,
   "metadata": {},
   "outputs": [
    {
     "name": "stdout",
     "output_type": "stream",
     "text": [
      "[Result of K-fold Cross Validation] \n",
      "\n",
      "Fold 1: 51.56%\n",
      "Fold 2: 56.25%\n",
      "Fold 3: 65.62%\n",
      "Fold 4: 53.12%\n",
      "* Average accuracy : 56.64%\n"
     ]
    }
   ],
   "source": [
    "Label     = TrainingFold_Label\n",
    "Label_Val = ValidationFold_Label\n",
    "Accuracy_sum = 0\n",
    "\n",
    "print('[Result of K-fold Cross Validation] \\n')\n",
    "\n",
    "for i in range(Fold):\n",
    "    \n",
    "    s1= 'Data     = Training_Fold%d'  %(i+1)\n",
    "    s2= 'Data_Val = Validation_Fold%d'%(i+1)\n",
    "    exec(s1)\n",
    "    exec(s2)\n",
    "\n",
    "# train my model\n",
    "# initialize\n",
    "    sess = tf.Session()\n",
    "    sess.run(tf.global_variables_initializer())\n",
    "\n",
    "    for step in range(1, iteration+1):\n",
    "    \n",
    "        c, _ = sess.run([cost, optimizer], feed_dict = {X : Data, Y: Label})\n",
    "        \n",
    "    Accuracy = sess.run(accuracy, feed_dict={X : Data_Val, Y: Label_Val})\n",
    "    Accuracy_sum = Accuracy_sum + Accuracy\n",
    "    \n",
    "    print('Fold {}: {:.2f}%'.format((i+1), Accuracy*100))\n",
    "    \n",
    "print('* Average accuracy : {:.2f}%'.format((Accuracy_sum/Fold)*100))"
   ]
  },
  {
   "cell_type": "markdown",
   "metadata": {},
   "source": [
    "## 전체 학습 데이터로 NN 학습 및 모델 저장"
   ]
  },
  {
   "cell_type": "code",
   "execution_count": 10,
   "metadata": {},
   "outputs": [],
   "source": [
    "x_data = Training_All\n",
    "y_data = Training_All_Label"
   ]
  },
  {
   "cell_type": "code",
   "execution_count": 11,
   "metadata": {},
   "outputs": [
    {
     "name": "stdout",
     "output_type": "stream",
     "text": [
      "iteration 1000\n",
      "   Validation Acc: 49.38%\n",
      "iteration 2000\n",
      "   Validation Acc: 53.44%\n",
      "iteration 3000\n",
      "   Validation Acc: 48.75%\n",
      "iteration 4000\n",
      "   Validation Acc: 55.94%\n",
      "iteration 5000\n",
      "   Validation Acc: 52.81%\n"
     ]
    }
   ],
   "source": [
    "# train my model\n",
    "# initialize\n",
    "sess = tf.Session()\n",
    "sess.run(tf.global_variables_initializer())\n",
    "\n",
    "for step in range(1, iteration+1):\n",
    "    \n",
    "    c, o = sess.run([cost, optimizer], feed_dict = {X : x_data, Y: y_data})\n",
    "    Acc = sess.run(accuracy, feed_dict={X : x_data, Y: y_data})\n",
    "   \n",
    "    if step % 1000 == 0:\n",
    "            \n",
    "        print('iteration {}'.format(step))    \n",
    "        print('   Validation Acc: {:.2f}%'.format(Acc*100))"
   ]
  },
  {
   "cell_type": "code",
   "execution_count": 12,
   "metadata": {},
   "outputs": [
    {
     "data": {
      "text/plain": [
       "'./MLmodels/ANN_model_tf1'"
      ]
     },
     "execution_count": 12,
     "metadata": {},
     "output_type": "execute_result"
    }
   ],
   "source": [
    "# 모델 저장\n",
    "saver = tf.train.Saver()\n",
    "saver.save(sess, './MLmodels/ANN_model_tf1')"
   ]
  },
  {
   "cell_type": "markdown",
   "metadata": {},
   "source": [
    "## NN model 불러와서 진단"
   ]
  },
  {
   "cell_type": "markdown",
   "metadata": {},
   "source": [
    "텐서플로우 그래프 초기화 (아무것도 작성안했을 시 실행 X)"
   ]
  },
  {
   "cell_type": "code",
   "execution_count": 13,
   "metadata": {},
   "outputs": [],
   "source": [
    "# Tensorflow Graph 지울 때 사용\n",
    "tf.reset_default_graph()"
   ]
  },
  {
   "cell_type": "code",
   "execution_count": 14,
   "metadata": {},
   "outputs": [],
   "source": [
    "# input place holders\n",
    "X = tf.placeholder(tf.float32, [None, Training_Fold1.shape[1]])\n",
    "Y = tf.placeholder(tf.float32, [None, 2])\n",
    "\n",
    "# dropout (keep_prob) rate 0.7 on training, but should be 1 for testing\n",
    "keep_prob = tf.placeholder(tf.float32)\n",
    "\n",
    "# weights & bias for nn layers\n",
    "\n",
    "# Input Layer\n",
    "W1 = tf.Variable(tf.random_normal([Training_Fold1.shape[1], noOfNeuron]))\n",
    "b1 = tf.Variable(tf.random_normal([noOfNeuron]))\n",
    "L1 = tf.nn.relu(tf.matmul(X, W1) + b1)\n",
    "\n",
    "# Hidden Layer 1\n",
    "W2 = tf.Variable(tf.random_normal([noOfNeuron, noOfNeuron]))\n",
    "b2 = tf.Variable(tf.random_normal([noOfNeuron]))\n",
    "L2 = tf.nn.relu(tf.matmul(L1, W2) + b2)\n",
    "\n",
    "# Hidden Layer 2\n",
    "W3 = tf.Variable(tf.random_normal([noOfNeuron, noOfNeuron]))\n",
    "b3 = tf.Variable(tf.random_normal([noOfNeuron]))\n",
    "L3 = tf.nn.relu(tf.matmul(L2, W3) + b3)\n",
    "\n",
    "# Output Layer\n",
    "W4 = tf.Variable(tf.random_normal([noOfNeuron, 2]))\n",
    "b4 = tf.Variable(tf.random_normal([2]))\n",
    "hypothesis = tf.matmul(L3, W4) + b4\n",
    "\n",
    "\n",
    "# define cost/loss &optimizer\n",
    "cost      = tf.reduce_mean(tf.nn.softmax_cross_entropy_with_logits_v2(logits=hypothesis, labels=Y))\n",
    "optimizer = tf.train.AdamOptimizer(learning_rate=learningRate).minimize(cost)\n",
    "\n",
    "# Test model and check accuracy\n",
    "correct_prediction = tf.equal(tf.argmax(hypothesis, 1), tf.argmax(Y, 1))\n",
    "accuracy           = tf.reduce_mean(tf.cast(correct_prediction, tf.float32))"
   ]
  },
  {
   "cell_type": "code",
   "execution_count": 15,
   "metadata": {},
   "outputs": [
    {
     "name": "stdout",
     "output_type": "stream",
     "text": [
      "INFO:tensorflow:Restoring parameters from ./MLmodels/ANN_model_tf1\n"
     ]
    }
   ],
   "source": [
    "# 모델 불러오기 (그래프에 Variable w, b 불러옴)\n",
    "sess  = tf.Session()\n",
    "LoadedModel = tf.train.Saver()\n",
    "LoadedModel.restore(sess, './MLmodels/ANN_model_tf1')"
   ]
  },
  {
   "cell_type": "code",
   "execution_count": 16,
   "metadata": {},
   "outputs": [],
   "source": [
    "Test_Data         = np.array(pd.read_csv('./K_FoldData/Test_Data' , sep=\",\", header=None))\n",
    "Test_Label_forANN = np.array(pd.read_csv('./K_FoldData/Test_Label_forANN', sep=\",\", header=None))"
   ]
  },
  {
   "cell_type": "code",
   "execution_count": 17,
   "metadata": {
    "scrolled": true
   },
   "outputs": [
    {
     "name": "stdout",
     "output_type": "stream",
     "text": [
      "[Performance of ANN model] \n",
      "\n",
      "Accuracy : 52.50%\n"
     ]
    }
   ],
   "source": [
    "Accuracy = sess.run(accuracy, feed_dict={X : Test_Data, Y: Test_Label_forANN})\n",
    "print('[Performance of ANN model] \\n')\n",
    "print('Accuracy : {:.2f}%'.format(Accuracy*100))"
   ]
  },
  {
   "cell_type": "code",
   "execution_count": 18,
   "metadata": {},
   "outputs": [
    {
     "data": {
      "text/html": [
       "<div>\n",
       "<style scoped>\n",
       "    .dataframe tbody tr th:only-of-type {\n",
       "        vertical-align: middle;\n",
       "    }\n",
       "\n",
       "    .dataframe tbody tr th {\n",
       "        vertical-align: top;\n",
       "    }\n",
       "\n",
       "    .dataframe thead th {\n",
       "        text-align: right;\n",
       "    }\n",
       "</style>\n",
       "<table border=\"1\" class=\"dataframe\">\n",
       "  <thead>\n",
       "    <tr style=\"text-align: right;\">\n",
       "      <th></th>\n",
       "      <th>0</th>\n",
       "      <th>1</th>\n",
       "    </tr>\n",
       "  </thead>\n",
       "  <tbody>\n",
       "    <tr>\n",
       "      <td>0</td>\n",
       "      <td>6623.878418</td>\n",
       "      <td>6621.854004</td>\n",
       "    </tr>\n",
       "    <tr>\n",
       "      <td>1</td>\n",
       "      <td>8677.680664</td>\n",
       "      <td>8680.493164</td>\n",
       "    </tr>\n",
       "    <tr>\n",
       "      <td>2</td>\n",
       "      <td>11168.798828</td>\n",
       "      <td>11189.466797</td>\n",
       "    </tr>\n",
       "    <tr>\n",
       "      <td>3</td>\n",
       "      <td>32337.072266</td>\n",
       "      <td>32347.113281</td>\n",
       "    </tr>\n",
       "    <tr>\n",
       "      <td>4</td>\n",
       "      <td>7351.035645</td>\n",
       "      <td>7362.979492</td>\n",
       "    </tr>\n",
       "    <tr>\n",
       "      <td>5</td>\n",
       "      <td>37459.824219</td>\n",
       "      <td>37534.406250</td>\n",
       "    </tr>\n",
       "    <tr>\n",
       "      <td>6</td>\n",
       "      <td>12550.371094</td>\n",
       "      <td>12565.639648</td>\n",
       "    </tr>\n",
       "    <tr>\n",
       "      <td>7</td>\n",
       "      <td>7151.445801</td>\n",
       "      <td>7167.458984</td>\n",
       "    </tr>\n",
       "    <tr>\n",
       "      <td>8</td>\n",
       "      <td>13192.564453</td>\n",
       "      <td>13226.728516</td>\n",
       "    </tr>\n",
       "    <tr>\n",
       "      <td>9</td>\n",
       "      <td>17803.333984</td>\n",
       "      <td>17803.966797</td>\n",
       "    </tr>\n",
       "    <tr>\n",
       "      <td>10</td>\n",
       "      <td>9384.710938</td>\n",
       "      <td>9433.645508</td>\n",
       "    </tr>\n",
       "    <tr>\n",
       "      <td>11</td>\n",
       "      <td>2023.293213</td>\n",
       "      <td>2025.881104</td>\n",
       "    </tr>\n",
       "    <tr>\n",
       "      <td>12</td>\n",
       "      <td>2429.619141</td>\n",
       "      <td>2430.791016</td>\n",
       "    </tr>\n",
       "    <tr>\n",
       "      <td>13</td>\n",
       "      <td>8400.021484</td>\n",
       "      <td>8397.534180</td>\n",
       "    </tr>\n",
       "    <tr>\n",
       "      <td>14</td>\n",
       "      <td>5251.412598</td>\n",
       "      <td>5257.573730</td>\n",
       "    </tr>\n",
       "    <tr>\n",
       "      <td>15</td>\n",
       "      <td>10027.617188</td>\n",
       "      <td>10039.290039</td>\n",
       "    </tr>\n",
       "    <tr>\n",
       "      <td>16</td>\n",
       "      <td>8025.228027</td>\n",
       "      <td>8032.424316</td>\n",
       "    </tr>\n",
       "    <tr>\n",
       "      <td>17</td>\n",
       "      <td>4137.210449</td>\n",
       "      <td>4138.468750</td>\n",
       "    </tr>\n",
       "    <tr>\n",
       "      <td>18</td>\n",
       "      <td>3360.749512</td>\n",
       "      <td>3356.095459</td>\n",
       "    </tr>\n",
       "    <tr>\n",
       "      <td>19</td>\n",
       "      <td>20749.501953</td>\n",
       "      <td>20749.794922</td>\n",
       "    </tr>\n",
       "    <tr>\n",
       "      <td>20</td>\n",
       "      <td>4704.400879</td>\n",
       "      <td>4718.363281</td>\n",
       "    </tr>\n",
       "    <tr>\n",
       "      <td>21</td>\n",
       "      <td>50432.894531</td>\n",
       "      <td>50546.070312</td>\n",
       "    </tr>\n",
       "    <tr>\n",
       "      <td>22</td>\n",
       "      <td>2316.351562</td>\n",
       "      <td>2325.300049</td>\n",
       "    </tr>\n",
       "    <tr>\n",
       "      <td>23</td>\n",
       "      <td>5949.219238</td>\n",
       "      <td>5948.294434</td>\n",
       "    </tr>\n",
       "    <tr>\n",
       "      <td>24</td>\n",
       "      <td>3083.612793</td>\n",
       "      <td>3111.444580</td>\n",
       "    </tr>\n",
       "    <tr>\n",
       "      <td>25</td>\n",
       "      <td>6052.707520</td>\n",
       "      <td>6052.878906</td>\n",
       "    </tr>\n",
       "    <tr>\n",
       "      <td>26</td>\n",
       "      <td>1450.110229</td>\n",
       "      <td>1457.523438</td>\n",
       "    </tr>\n",
       "    <tr>\n",
       "      <td>27</td>\n",
       "      <td>6305.940918</td>\n",
       "      <td>6308.066406</td>\n",
       "    </tr>\n",
       "    <tr>\n",
       "      <td>28</td>\n",
       "      <td>3228.216797</td>\n",
       "      <td>3230.026367</td>\n",
       "    </tr>\n",
       "    <tr>\n",
       "      <td>29</td>\n",
       "      <td>2040.235718</td>\n",
       "      <td>2046.148315</td>\n",
       "    </tr>\n",
       "    <tr>\n",
       "      <td>30</td>\n",
       "      <td>4164.727051</td>\n",
       "      <td>4168.893066</td>\n",
       "    </tr>\n",
       "    <tr>\n",
       "      <td>31</td>\n",
       "      <td>7024.057129</td>\n",
       "      <td>7026.114258</td>\n",
       "    </tr>\n",
       "    <tr>\n",
       "      <td>32</td>\n",
       "      <td>13690.694336</td>\n",
       "      <td>13691.989258</td>\n",
       "    </tr>\n",
       "    <tr>\n",
       "      <td>33</td>\n",
       "      <td>45813.183594</td>\n",
       "      <td>45814.796875</td>\n",
       "    </tr>\n",
       "    <tr>\n",
       "      <td>34</td>\n",
       "      <td>2430.860840</td>\n",
       "      <td>2429.110840</td>\n",
       "    </tr>\n",
       "    <tr>\n",
       "      <td>35</td>\n",
       "      <td>31156.027344</td>\n",
       "      <td>31157.085938</td>\n",
       "    </tr>\n",
       "    <tr>\n",
       "      <td>36</td>\n",
       "      <td>18494.789062</td>\n",
       "      <td>18497.195312</td>\n",
       "    </tr>\n",
       "    <tr>\n",
       "      <td>37</td>\n",
       "      <td>25702.226562</td>\n",
       "      <td>25704.052734</td>\n",
       "    </tr>\n",
       "    <tr>\n",
       "      <td>38</td>\n",
       "      <td>6165.742676</td>\n",
       "      <td>6172.017090</td>\n",
       "    </tr>\n",
       "    <tr>\n",
       "      <td>39</td>\n",
       "      <td>50501.464844</td>\n",
       "      <td>50568.730469</td>\n",
       "    </tr>\n",
       "  </tbody>\n",
       "</table>\n",
       "</div>"
      ],
      "text/plain": [
       "               0             1\n",
       "0    6623.878418   6621.854004\n",
       "1    8677.680664   8680.493164\n",
       "2   11168.798828  11189.466797\n",
       "3   32337.072266  32347.113281\n",
       "4    7351.035645   7362.979492\n",
       "5   37459.824219  37534.406250\n",
       "6   12550.371094  12565.639648\n",
       "7    7151.445801   7167.458984\n",
       "8   13192.564453  13226.728516\n",
       "9   17803.333984  17803.966797\n",
       "10   9384.710938   9433.645508\n",
       "11   2023.293213   2025.881104\n",
       "12   2429.619141   2430.791016\n",
       "13   8400.021484   8397.534180\n",
       "14   5251.412598   5257.573730\n",
       "15  10027.617188  10039.290039\n",
       "16   8025.228027   8032.424316\n",
       "17   4137.210449   4138.468750\n",
       "18   3360.749512   3356.095459\n",
       "19  20749.501953  20749.794922\n",
       "20   4704.400879   4718.363281\n",
       "21  50432.894531  50546.070312\n",
       "22   2316.351562   2325.300049\n",
       "23   5949.219238   5948.294434\n",
       "24   3083.612793   3111.444580\n",
       "25   6052.707520   6052.878906\n",
       "26   1450.110229   1457.523438\n",
       "27   6305.940918   6308.066406\n",
       "28   3228.216797   3230.026367\n",
       "29   2040.235718   2046.148315\n",
       "30   4164.727051   4168.893066\n",
       "31   7024.057129   7026.114258\n",
       "32  13690.694336  13691.989258\n",
       "33  45813.183594  45814.796875\n",
       "34   2430.860840   2429.110840\n",
       "35  31156.027344  31157.085938\n",
       "36  18494.789062  18497.195312\n",
       "37  25702.226562  25704.052734\n",
       "38   6165.742676   6172.017090\n",
       "39  50501.464844  50568.730469"
      ]
     },
     "execution_count": 18,
     "metadata": {},
     "output_type": "execute_result"
    }
   ],
   "source": [
    "Predict = sess.run(hypothesis, feed_dict={X : Test_Data, Y: Test_Label_forANN})\n",
    "pd.DataFrame(Predict)"
   ]
  },
  {
   "cell_type": "code",
   "execution_count": null,
   "metadata": {},
   "outputs": [],
   "source": [
    " "
   ]
  }
 ],
 "metadata": {
  "kernelspec": {
   "display_name": "Python 3",
   "language": "python",
   "name": "python3"
  },
  "language_info": {
   "codemirror_mode": {
    "name": "ipython",
    "version": 3
   },
   "file_extension": ".py",
   "mimetype": "text/x-python",
   "name": "python",
   "nbconvert_exporter": "python",
   "pygments_lexer": "ipython3",
   "version": "3.7.4"
  }
 },
 "nbformat": 4,
 "nbformat_minor": 4
}
