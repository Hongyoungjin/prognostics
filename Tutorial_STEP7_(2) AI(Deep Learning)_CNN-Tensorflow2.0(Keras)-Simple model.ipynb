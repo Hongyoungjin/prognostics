{
 "cells": [
  {
   "cell_type": "code",
   "execution_count": 3,
   "metadata": {},
   "outputs": [
    {
     "name": "stdout",
     "output_type": "stream",
     "text": [
      "Using matplotlib backend: Qt5Agg\n"
     ]
    }
   ],
   "source": [
    "%matplotlib"
   ]
  },
  {
   "cell_type": "code",
   "execution_count": null,
   "metadata": {},
   "outputs": [],
   "source": [
    "%matplotlib inline"
   ]
  },
  {
   "cell_type": "code",
   "execution_count": 6,
   "metadata": {},
   "outputs": [],
   "source": [
    "pd.set_option('display.max_rows',    100)      # DataFrame 데이터 확인 시 최대 표시 행 수\n",
    "pd.set_option('display.max_columns', 100)      # DataFrame 데이터 확인 시 최대 표시 열 수"
   ]
  },
  {
   "cell_type": "markdown",
   "metadata": {},
   "source": [
    "## 라이브러리 import "
   ]
  },
  {
   "cell_type": "code",
   "execution_count": 7,
   "metadata": {},
   "outputs": [],
   "source": [
    "import pandas as pd\n",
    "import numpy as np\n",
    "import matplotlib.pyplot as plt\n",
    "from scipy import signal\n",
    "import tensorflow as tf\n",
    "from tensorflow import keras"
   ]
  },
  {
   "cell_type": "markdown",
   "metadata": {},
   "source": [
    "## 데이터 불러오기"
   ]
  },
  {
   "cell_type": "code",
   "execution_count": 8,
   "metadata": {},
   "outputs": [
    {
     "name": "stdout",
     "output_type": "stream",
     "text": [
      "(256, 2774)\n",
      "(64, 2774)\n",
      "(256, 2)\n",
      "(64, 2)\n",
      "(320, 2774)\n"
     ]
    }
   ],
   "source": [
    "Fold       = 5\n",
    "Fs         = 12800  # Sampling Frequency\n",
    "NoOfSensor = 1\n",
    "# 이미지 데이터를 분석하는 경우 한 픽셀 당 rgb 3개 값이 있으니 NoOfSensor = 3이 되어야 한다.\n",
    "\n",
    "# k-fold 학습/검증 데이터\n",
    "for i in range(Fold):\n",
    "    \n",
    "    path1 = './K_FoldData/CNN_Training_Fold%d'%(i+1)\n",
    "    path2 = './K_FoldData/CNN_Validation_Fold%d'%(i+1)\n",
    "    c1 = 'temp_Training_Fold%d   = np.array(pd.read_csv(path1, sep=\",\", header=None))'%(i+1)\n",
    "    c2 = 'temp_Validation_Fold%d = np.array(pd.read_csv(path2, sep=\",\", header=None))'%(i+1)\n",
    "    exec(c1)\n",
    "    exec(c2)\n",
    "\n",
    "# K-fold 학습/검증 레이블\n",
    "TrainingFold_Label   = np.array(pd.read_csv('./K_FoldData/TrainingFold_Label_forANN'  , sep=\",\", header=None))\n",
    "ValidationFold_Label = np.array(pd.read_csv('./K_FoldData/ValidationFold_Label_forANN', sep=\",\", header=None))\n",
    "    \n",
    "    \n",
    "# 전체 학습용 데이터\n",
    "temp_Training_All  = np.array(pd.read_csv('./K_FoldData/CNN_Training_All', sep = \",\", header = None))\n",
    "Training_All_Label = np.array(pd.read_csv('./K_FoldData/Training_All_Label_forANN', sep = \",\", header = None))\n",
    "\n",
    "print(temp_Training_Fold1.shape)\n",
    "print(temp_Validation_Fold1.shape)\n",
    "print(TrainingFold_Label.shape)\n",
    "print(ValidationFold_Label.shape)\n",
    "print(temp_Training_All.shape)"
   ]
  },
  {
   "cell_type": "markdown",
   "metadata": {},
   "source": [
    "## STFT 실행 (Spectrogram 생성)"
   ]
  },
  {
   "cell_type": "code",
   "execution_count": 9,
   "metadata": {},
   "outputs": [
    {
     "name": "stdout",
     "output_type": "stream",
     "text": [
      "STFT Result            : (320, 40, 40)\n",
      "Reshape_for_CNN Result : (320, 40, 40, 1)\n"
     ]
    }
   ],
   "source": [
    "# STFT test\n",
    "\n",
    "f,t,Sxx = signal.spectrogram(temp_Training_All, Fs, nperseg=78)\n",
    "print(\"STFT Result            :\", Sxx.shape)\n",
    "\n",
    "# Data Reshape for CNN\n",
    "Training_All = Sxx.reshape(Sxx.shape[0], Sxx.shape[1], Sxx.shape[2], NoOfSensor)\n",
    "print(\"Reshape_for_CNN Result :\", Training_All.shape)"
   ]
  },
  {
   "cell_type": "code",
   "execution_count": 10,
   "metadata": {},
   "outputs": [
    {
     "name": "stdout",
     "output_type": "stream",
     "text": [
      "(40,) (40,) (256, 40, 40, 1) (64, 40, 40, 1)\n"
     ]
    }
   ],
   "source": [
    "for i in range(Fold):\n",
    "    s1 = 'f,t,Sxx1 = signal.spectrogram(temp_Training_Fold%d, Fs, nperseg=78)'   %(i+1)\n",
    "    s2 = 'f,t,Sxx2 = signal.spectrogram(temp_Validation_Fold%d, Fs, nperseg=78)' %(i+1)\n",
    "    exec(s1)\n",
    "    exec(s2)\n",
    "    \n",
    "    s3 = 'Training_Fold%d   = Sxx1.reshape(Sxx1.shape[0], Sxx1.shape[1], Sxx1.shape[2], NoOfSensor)' %(i+1)\n",
    "    s4 = 'Validation_Fold%d = Sxx2.reshape(Sxx2.shape[0], Sxx2.shape[1], Sxx2.shape[2], NoOfSensor)' %(i+1)\n",
    "    exec(s3)\n",
    "    exec(s4)\n",
    "\n",
    "\n",
    "print(f.shape, t.shape, Training_Fold1.shape, Validation_Fold1.shape)"
   ]
  },
  {
   "cell_type": "markdown",
   "metadata": {},
   "source": [
    "## CNN(Convolution Neural Network) hyperparameter 설정"
   ]
  },
  {
   "cell_type": "code",
   "execution_count": 11,
   "metadata": {},
   "outputs": [],
   "source": [
    "learningRate  = 0.001\n",
    "iteration     = 500"
   ]
  },
  {
   "cell_type": "markdown",
   "metadata": {},
   "source": [
    "## Keras 기반 CNN 구조(Architecture) 설계"
   ]
  },
  {
   "cell_type": "code",
   "execution_count": 12,
   "metadata": {},
   "outputs": [],
   "source": [
    "def CNN_model(input_data):\n",
    "    #모델을 정의함\n",
    "    model = keras.Sequential() \n",
    "    # 레이어를 추가함 (convolution layer)\n",
    "    '''\n",
    "    4: 첫 레이어의 퍼셉트론 개수 -> bias 또한 4개\n",
    "    kernel_size: 차원 축소하는 필터 행렬 크기 (3,3) -> 3*3*4 = 36개의 weight가 생기는 것\n",
    "    -> 36+4 = 40개의 hyperparameter (최적화해야 할 대상)이 생기는 것\n",
    "    strides: 몇 칸씩 넘어가면서 줄일거냐\n",
    "    padding = 'same': 행렬 주변에 0으로 채워서 가장자리 값도 계산 많이 하게 하는 것\n",
    "    activation : 활성함수 뭐로 쓸거냐\n",
    "    \n",
    "    \n",
    "    '''\n",
    "    model.add(keras.layers.Conv2D(4, kernel_size=(3,3), strides=(1, 1), padding='same', activation='relu',\n",
    "                                  input_shape=(input_data.shape[1],input_data.shape[2],input_data.shape[3]))) # Convolution layer 1\n",
    "    #pooling: 차원 축소하기 원래는 convolution\n",
    "    model.add(keras.layers.MaxPooling2D(pool_size = (2, 2), strides=(2, 2)))                                  # Pooling layer 1\n",
    "    model.add(keras.layers.Conv2D(8, kernel_size=(3,3), strides=(1, 1), padding='same', activation='relu'))   # Convolution layer 2\n",
    "    \n",
    "    # GlobalAveragePooling: ANN을 대체할 수 있는 함수\n",
    "    model.add(keras.layers.GlobalAveragePooling2D())                                                          # Global Average Pooling\n",
    "    # Output Layer\n",
    "    model.add(keras.layers.Dense(units = 2, activation='softmax'))                                            \n",
    "\n",
    "    # ANN에서 썼던 것과 똑같음\n",
    "    model.compile(optimizer= keras.optimizers.Adam(learning_rate = learningRate),\n",
    "                  loss=keras.losses.categorical_crossentropy,\n",
    "                  metrics=['accuracy'])\n",
    "    return model"
   ]
  },
  {
   "cell_type": "code",
   "execution_count": 14,
   "metadata": {},
   "outputs": [
    {
     "name": "stdout",
     "output_type": "stream",
     "text": [
      "Model: \"sequential\"\n",
      "_________________________________________________________________\n",
      "Layer (type)                 Output Shape              Param #   \n",
      "=================================================================\n",
      "conv2d (Conv2D)              (None, 40, 40, 4)         40        \n",
      "_________________________________________________________________\n",
      "max_pooling2d (MaxPooling2D) (None, 20, 20, 4)         0         \n",
      "_________________________________________________________________\n",
      "conv2d_1 (Conv2D)            (None, 20, 20, 8)         296       \n",
      "_________________________________________________________________\n",
      "global_average_pooling2d (Gl (None, 8)                 0         \n",
      "_________________________________________________________________\n",
      "dense (Dense)                (None, 2)                 18        \n",
      "=================================================================\n",
      "Total params: 354\n",
      "Trainable params: 354\n",
      "Non-trainable params: 0\n",
      "_________________________________________________________________\n"
     ]
    }
   ],
   "source": [
    "CNN_model(Training_Fold1).summary()"
   ]
  },
  {
   "cell_type": "markdown",
   "metadata": {},
   "source": [
    "## CNN(Convolution Neural Network) 학습 및 평가 방법"
   ]
  },
  {
   "cell_type": "code",
   "execution_count": 9,
   "metadata": {},
   "outputs": [
    {
     "data": {
      "text/plain": [
       "0.828125"
      ]
     },
     "execution_count": 9,
     "metadata": {},
     "output_type": "execute_result"
    }
   ],
   "source": [
    "tf.random.set_seed(777)\n",
    "\n",
    "Data      = Training_Fold1\n",
    "Data_Val  = Validation_Fold1\n",
    "Label     = TrainingFold_Label\n",
    "Label_Val = ValidationFold_Label\n",
    "\n",
    "model = CNN_model(Data)\n",
    "\n",
    "hist = model.fit(Data, Label, epochs=iteration, verbose = 0)\n",
    "Loss, Accuracy = model.evaluate(Data_Val,  Label_Val, verbose=0)\n",
    "\n",
    "Accuracy"
   ]
  },
  {
   "cell_type": "markdown",
   "metadata": {},
   "source": [
    "## CNN(Convolution Neural Network) 학습 및 검증"
   ]
  },
  {
   "cell_type": "code",
   "execution_count": 10,
   "metadata": {},
   "outputs": [
    {
     "name": "stdout",
     "output_type": "stream",
     "text": [
      "[Reslut of K-fold Cross Validation] \n",
      "\n",
      "Fold 1: 82.81%\n",
      "Fold 2: 95.31%\n",
      "Fold 3: 96.88%\n",
      "Fold 4: 93.75%\n",
      "Fold 5: 82.81%\n",
      "* Average accuracy : 90.31%\n"
     ]
    }
   ],
   "source": [
    "Label        = TrainingFold_Label\n",
    "Label_Val    = ValidationFold_Label\n",
    "Accuracy_sum = 0\n",
    "\n",
    "print('[Reslut of K-fold Cross Validation] \\n')\n",
    "\n",
    "for i in range(Fold):\n",
    "    tf.random.set_seed(777)\n",
    "    \n",
    "    s1= 'Data = Training_Fold%d'%(i+1)\n",
    "    s2= 'Data_Val = Validation_Fold%d'%(i+1)\n",
    "    exec(s1)\n",
    "    exec(s2)\n",
    "    \n",
    "    model = CNN_model(Data)\n",
    "    \n",
    "# train my model\n",
    "    hist = model.fit(Data, Label, epochs=iteration, verbose = 0)\n",
    "    Loss, Accuracy = model.evaluate(Data_Val,  Label_Val, verbose=0)\n",
    "    Accuracy_sum = Accuracy_sum + Accuracy\n",
    "    print('Fold {}: {:.2f}%'.format((i+1), Accuracy*100))\n",
    "\n",
    "print('* Average accuracy : {:.2f}%'.format((Accuracy_sum/Fold)*100))"
   ]
  },
  {
   "cell_type": "markdown",
   "metadata": {},
   "source": [
    "## 전체 학습 데이터로 NN 학습 및 모델 저장"
   ]
  },
  {
   "cell_type": "code",
   "execution_count": 11,
   "metadata": {},
   "outputs": [],
   "source": [
    "PrintAccPerEpochs = 200\n",
    "\n",
    "class AccuracyPerEpoch(keras.callbacks.Callback):\n",
    "    def on_epoch_end(self, epoch, logs=None):\n",
    "        keras.callbacks.Callback()\n",
    "        if epoch%PrintAccPerEpochs == 0:\n",
    "            print(\"{} Epochs Accuracy : {:.2f}% \".format(epoch, logs[\"accuracy\"]*100))"
   ]
  },
  {
   "cell_type": "code",
   "execution_count": 22,
   "metadata": {},
   "outputs": [
    {
     "name": "stdout",
     "output_type": "stream",
     "text": [
      "0 Epochs Accuracy : 48.75% \n",
      "200 Epochs Accuracy : 61.25% \n",
      "400 Epochs Accuracy : 85.31% \n",
      "Final Accuracy      : 91.25%\n"
     ]
    }
   ],
   "source": [
    "tf.random.set_seed(777)    \n",
    "\n",
    "Data  = Training_All\n",
    "Label = Training_All_Label\n",
    "\n",
    "model = CNN_model(Training_All)\n",
    "hist = model.fit(Data, Label, epochs=iteration, verbose = 0, callbacks = [AccuracyPerEpoch()])\n",
    "\n",
    "print('Final Accuracy      : {:.2f}%'.format(hist.history['accuracy'][-1]*100))"
   ]
  },
  {
   "cell_type": "code",
   "execution_count": 13,
   "metadata": {},
   "outputs": [],
   "source": [
    "# 학습 과정 확인\n",
    "\n",
    "fig, loss_ax = plt.subplots()\n",
    "acc_ax = loss_ax.twinx()\n",
    "\n",
    "loss_ax.plot(hist.history['loss'], 'y', label='train loss', c = 'tab:red')\n",
    "loss_ax.set_xlabel('epoch')\n",
    "loss_ax.set_ylabel('loss')\n",
    "loss_ax.legend(loc='upper left')\n",
    "\n",
    "acc_ax.plot(hist.history['accuracy'], 'b', label='train acc', c = 'tab:blue')\n",
    "acc_ax.set_ylabel('accuracy')\n",
    "acc_ax.legend(loc='lower left')\n",
    "\n",
    "plt.show()"
   ]
  },
  {
   "cell_type": "code",
   "execution_count": 14,
   "metadata": {},
   "outputs": [],
   "source": [
    "# 모델 저장\n",
    "model.save(\"./MLmodels/Simple_CNN_model.h5\")"
   ]
  },
  {
   "cell_type": "markdown",
   "metadata": {},
   "source": [
    "## NN model 불러와서 진단"
   ]
  },
  {
   "cell_type": "code",
   "execution_count": 15,
   "metadata": {},
   "outputs": [],
   "source": [
    "# 모델 불러오기\n",
    "LoadedModel = keras.models.load_model(\"./MLmodels/Simple_CNN_model.h5\")"
   ]
  },
  {
   "cell_type": "code",
   "execution_count": 16,
   "metadata": {},
   "outputs": [],
   "source": [
    "temp_Test_Data         = np.array(pd.read_csv('./K_FoldData/CNN_Test_Data' , sep=\",\", header=None))\n",
    "Test_Label_forANN = np.array(pd.read_csv('./K_FoldData/Test_Label_forANN', sep=\",\", header=None))"
   ]
  },
  {
   "cell_type": "code",
   "execution_count": 20,
   "metadata": {},
   "outputs": [
    {
     "name": "stdout",
     "output_type": "stream",
     "text": [
      "STFT Result            : (320, 40, 40, 1)\n",
      "Reshape_for_CNN Result : (40, 40, 40, 1)\n"
     ]
    },
    {
     "name": "stderr",
     "output_type": "stream",
     "text": [
      "C:\\Users\\erich\\Anaconda3\\lib\\site-packages\\scipy\\signal\\spectral.py:1969: UserWarning: nperseg = 78 is greater than input length  = 1, using nperseg = 1\n",
      "  .format(nperseg, input_length))\n"
     ]
    }
   ],
   "source": [
    "f,t,Test_Data = signal.spectrogram(Test_Data, Fs, nperseg = 78)\n",
    "print(\"STFT Result            :\", Training_All.shape)\n",
    "\n",
    "# Data Reshape for CNN\n",
    "Test_Data = Test_Data.reshape(Test_Data.shape[0], Test_Data.shape[1], Test_Data.shape[2], NoOfSensor)\n",
    "print(\"Reshape_for_CNN Result :\", Test_Data.shape)"
   ]
  },
  {
   "cell_type": "code",
   "execution_count": 21,
   "metadata": {},
   "outputs": [
    {
     "name": "stdout",
     "output_type": "stream",
     "text": [
      "[Performance of CNN model] \n",
      "\n",
      "Accuracy : 50.00%\n"
     ]
    }
   ],
   "source": [
    "Loss, Accuracy = LoadedModel.evaluate(Test_Data,  Test_Label_forANN, verbose=0)\n",
    "print('[Performance of CNN model] \\n')\n",
    "print('Accuracy : {:.2f}%'.format(Accuracy*100))"
   ]
  },
  {
   "cell_type": "code",
   "execution_count": 19,
   "metadata": {
    "scrolled": true
   },
   "outputs": [
    {
     "data": {
      "text/html": [
       "<div>\n",
       "<style scoped>\n",
       "    .dataframe tbody tr th:only-of-type {\n",
       "        vertical-align: middle;\n",
       "    }\n",
       "\n",
       "    .dataframe tbody tr th {\n",
       "        vertical-align: top;\n",
       "    }\n",
       "\n",
       "    .dataframe thead th {\n",
       "        text-align: right;\n",
       "    }\n",
       "</style>\n",
       "<table border=\"1\" class=\"dataframe\">\n",
       "  <thead>\n",
       "    <tr style=\"text-align: right;\">\n",
       "      <th></th>\n",
       "      <th>0</th>\n",
       "      <th>1</th>\n",
       "    </tr>\n",
       "  </thead>\n",
       "  <tbody>\n",
       "    <tr>\n",
       "      <td>0</td>\n",
       "      <td>0.526471</td>\n",
       "      <td>4.735288e-01</td>\n",
       "    </tr>\n",
       "    <tr>\n",
       "      <td>1</td>\n",
       "      <td>0.541835</td>\n",
       "      <td>4.581653e-01</td>\n",
       "    </tr>\n",
       "    <tr>\n",
       "      <td>2</td>\n",
       "      <td>0.533428</td>\n",
       "      <td>4.665720e-01</td>\n",
       "    </tr>\n",
       "    <tr>\n",
       "      <td>3</td>\n",
       "      <td>0.589855</td>\n",
       "      <td>4.101445e-01</td>\n",
       "    </tr>\n",
       "    <tr>\n",
       "      <td>4</td>\n",
       "      <td>0.463598</td>\n",
       "      <td>5.364016e-01</td>\n",
       "    </tr>\n",
       "    <tr>\n",
       "      <td>5</td>\n",
       "      <td>0.553360</td>\n",
       "      <td>4.466401e-01</td>\n",
       "    </tr>\n",
       "    <tr>\n",
       "      <td>6</td>\n",
       "      <td>0.557973</td>\n",
       "      <td>4.420271e-01</td>\n",
       "    </tr>\n",
       "    <tr>\n",
       "      <td>7</td>\n",
       "      <td>0.506076</td>\n",
       "      <td>4.939244e-01</td>\n",
       "    </tr>\n",
       "    <tr>\n",
       "      <td>8</td>\n",
       "      <td>1.000000</td>\n",
       "      <td>2.767697e-25</td>\n",
       "    </tr>\n",
       "    <tr>\n",
       "      <td>9</td>\n",
       "      <td>0.532246</td>\n",
       "      <td>4.677538e-01</td>\n",
       "    </tr>\n",
       "    <tr>\n",
       "      <td>10</td>\n",
       "      <td>1.000000</td>\n",
       "      <td>1.888533e-13</td>\n",
       "    </tr>\n",
       "    <tr>\n",
       "      <td>11</td>\n",
       "      <td>0.504756</td>\n",
       "      <td>4.952437e-01</td>\n",
       "    </tr>\n",
       "    <tr>\n",
       "      <td>12</td>\n",
       "      <td>0.495437</td>\n",
       "      <td>5.045629e-01</td>\n",
       "    </tr>\n",
       "    <tr>\n",
       "      <td>13</td>\n",
       "      <td>0.566955</td>\n",
       "      <td>4.330452e-01</td>\n",
       "    </tr>\n",
       "    <tr>\n",
       "      <td>14</td>\n",
       "      <td>0.608362</td>\n",
       "      <td>3.916383e-01</td>\n",
       "    </tr>\n",
       "    <tr>\n",
       "      <td>15</td>\n",
       "      <td>0.581529</td>\n",
       "      <td>4.184710e-01</td>\n",
       "    </tr>\n",
       "    <tr>\n",
       "      <td>16</td>\n",
       "      <td>0.460833</td>\n",
       "      <td>5.391666e-01</td>\n",
       "    </tr>\n",
       "    <tr>\n",
       "      <td>17</td>\n",
       "      <td>0.554475</td>\n",
       "      <td>4.455254e-01</td>\n",
       "    </tr>\n",
       "    <tr>\n",
       "      <td>18</td>\n",
       "      <td>0.531161</td>\n",
       "      <td>4.688393e-01</td>\n",
       "    </tr>\n",
       "    <tr>\n",
       "      <td>19</td>\n",
       "      <td>0.476431</td>\n",
       "      <td>5.235686e-01</td>\n",
       "    </tr>\n",
       "    <tr>\n",
       "      <td>20</td>\n",
       "      <td>0.362194</td>\n",
       "      <td>6.378064e-01</td>\n",
       "    </tr>\n",
       "    <tr>\n",
       "      <td>21</td>\n",
       "      <td>0.446573</td>\n",
       "      <td>5.534271e-01</td>\n",
       "    </tr>\n",
       "    <tr>\n",
       "      <td>22</td>\n",
       "      <td>0.393236</td>\n",
       "      <td>6.067639e-01</td>\n",
       "    </tr>\n",
       "    <tr>\n",
       "      <td>23</td>\n",
       "      <td>0.369882</td>\n",
       "      <td>6.301180e-01</td>\n",
       "    </tr>\n",
       "    <tr>\n",
       "      <td>24</td>\n",
       "      <td>0.324856</td>\n",
       "      <td>6.751440e-01</td>\n",
       "    </tr>\n",
       "    <tr>\n",
       "      <td>25</td>\n",
       "      <td>0.387464</td>\n",
       "      <td>6.125360e-01</td>\n",
       "    </tr>\n",
       "    <tr>\n",
       "      <td>26</td>\n",
       "      <td>0.400424</td>\n",
       "      <td>5.995761e-01</td>\n",
       "    </tr>\n",
       "    <tr>\n",
       "      <td>27</td>\n",
       "      <td>0.377331</td>\n",
       "      <td>6.226690e-01</td>\n",
       "    </tr>\n",
       "    <tr>\n",
       "      <td>28</td>\n",
       "      <td>0.472148</td>\n",
       "      <td>5.278519e-01</td>\n",
       "    </tr>\n",
       "    <tr>\n",
       "      <td>29</td>\n",
       "      <td>0.424139</td>\n",
       "      <td>5.758606e-01</td>\n",
       "    </tr>\n",
       "    <tr>\n",
       "      <td>30</td>\n",
       "      <td>0.418441</td>\n",
       "      <td>5.815592e-01</td>\n",
       "    </tr>\n",
       "    <tr>\n",
       "      <td>31</td>\n",
       "      <td>0.392224</td>\n",
       "      <td>6.077762e-01</td>\n",
       "    </tr>\n",
       "    <tr>\n",
       "      <td>32</td>\n",
       "      <td>0.408626</td>\n",
       "      <td>5.913740e-01</td>\n",
       "    </tr>\n",
       "    <tr>\n",
       "      <td>33</td>\n",
       "      <td>0.409049</td>\n",
       "      <td>5.909514e-01</td>\n",
       "    </tr>\n",
       "    <tr>\n",
       "      <td>34</td>\n",
       "      <td>0.419664</td>\n",
       "      <td>5.803365e-01</td>\n",
       "    </tr>\n",
       "    <tr>\n",
       "      <td>35</td>\n",
       "      <td>0.429883</td>\n",
       "      <td>5.701169e-01</td>\n",
       "    </tr>\n",
       "    <tr>\n",
       "      <td>36</td>\n",
       "      <td>0.333476</td>\n",
       "      <td>6.665244e-01</td>\n",
       "    </tr>\n",
       "    <tr>\n",
       "      <td>37</td>\n",
       "      <td>0.402813</td>\n",
       "      <td>5.971874e-01</td>\n",
       "    </tr>\n",
       "    <tr>\n",
       "      <td>38</td>\n",
       "      <td>0.405877</td>\n",
       "      <td>5.941232e-01</td>\n",
       "    </tr>\n",
       "    <tr>\n",
       "      <td>39</td>\n",
       "      <td>0.371210</td>\n",
       "      <td>6.287900e-01</td>\n",
       "    </tr>\n",
       "  </tbody>\n",
       "</table>\n",
       "</div>"
      ],
      "text/plain": [
       "           0             1\n",
       "0   0.526471  4.735288e-01\n",
       "1   0.541835  4.581653e-01\n",
       "2   0.533428  4.665720e-01\n",
       "3   0.589855  4.101445e-01\n",
       "4   0.463598  5.364016e-01\n",
       "5   0.553360  4.466401e-01\n",
       "6   0.557973  4.420271e-01\n",
       "7   0.506076  4.939244e-01\n",
       "8   1.000000  2.767697e-25\n",
       "9   0.532246  4.677538e-01\n",
       "10  1.000000  1.888533e-13\n",
       "11  0.504756  4.952437e-01\n",
       "12  0.495437  5.045629e-01\n",
       "13  0.566955  4.330452e-01\n",
       "14  0.608362  3.916383e-01\n",
       "15  0.581529  4.184710e-01\n",
       "16  0.460833  5.391666e-01\n",
       "17  0.554475  4.455254e-01\n",
       "18  0.531161  4.688393e-01\n",
       "19  0.476431  5.235686e-01\n",
       "20  0.362194  6.378064e-01\n",
       "21  0.446573  5.534271e-01\n",
       "22  0.393236  6.067639e-01\n",
       "23  0.369882  6.301180e-01\n",
       "24  0.324856  6.751440e-01\n",
       "25  0.387464  6.125360e-01\n",
       "26  0.400424  5.995761e-01\n",
       "27  0.377331  6.226690e-01\n",
       "28  0.472148  5.278519e-01\n",
       "29  0.424139  5.758606e-01\n",
       "30  0.418441  5.815592e-01\n",
       "31  0.392224  6.077762e-01\n",
       "32  0.408626  5.913740e-01\n",
       "33  0.409049  5.909514e-01\n",
       "34  0.419664  5.803365e-01\n",
       "35  0.429883  5.701169e-01\n",
       "36  0.333476  6.665244e-01\n",
       "37  0.402813  5.971874e-01\n",
       "38  0.405877  5.941232e-01\n",
       "39  0.371210  6.287900e-01"
      ]
     },
     "execution_count": 19,
     "metadata": {},
     "output_type": "execute_result"
    }
   ],
   "source": [
    "# 예측값 확인\n",
    "Predict_y = LoadedModel.predict(Test_Data)\n",
    "pd.DataFrame(Predict_y)"
   ]
  },
  {
   "cell_type": "code",
   "execution_count": null,
   "metadata": {},
   "outputs": [],
   "source": []
  }
 ],
 "metadata": {
  "kernelspec": {
   "display_name": "Python 3",
   "language": "python",
   "name": "python3"
  },
  "language_info": {
   "codemirror_mode": {
    "name": "ipython",
    "version": 3
   },
   "file_extension": ".py",
   "mimetype": "text/x-python",
   "name": "python",
   "nbconvert_exporter": "python",
   "pygments_lexer": "ipython3",
   "version": "3.7.4"
  }
 },
 "nbformat": 4,
 "nbformat_minor": 4
}
