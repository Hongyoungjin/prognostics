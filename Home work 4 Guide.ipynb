{
 "cells": [
  {
   "cell_type": "markdown",
   "metadata": {},
   "source": [
    "### ****** 필독 !! 실습과제 주의사항 ******"
   ]
  },
  {
   "cell_type": "markdown",
   "metadata": {},
   "source": [
    "- 각자의 \"수강생 번호\" 확인 (아이캠퍼스 공지) \n",
    "- 제출하는 실습과제 파일에 \"수강생 번호\"를 기준으로 작성 (이름, 학번 등 작성X)\n",
    "- 각 실습과제에 대한 구체적인 파일 이름은 매번 개별 안내 \n",
    "  (수강생 번호 123번 학생 과제파일 예시 : 'ST123_HW4_1' )\n",
    "  \n",
    "- 과제 파일이름 양식 지키지 않을 시 감점!"
   ]
  },
  {
   "cell_type": "markdown",
   "metadata": {},
   "source": [
    "# [실습 과제 4]"
   ]
  },
  {
   "cell_type": "markdown",
   "metadata": {},
   "source": [
    "## 1. ExampleData의 센서 데이터 3가지에 대하여 STFT 진행\n",
    "#### >>>>>> STFT의 Parameter 중 <font color=red>nperseg는 50</font>으로 변경\n",
    "#### >>>>>> 3가지의 Spectrogram을 DataFrame형태로 저장\n",
    "#### >>>>>> 저장된 파일 이름 : <font color=blue>ST(수강생 번호)_Acc // ST(수강생 번호)_Vol // ST(수강생 번호)_Cur (예시 : 'ST00_Acc')</font>"
   ]
  },
  {
   "cell_type": "markdown",
   "metadata": {},
   "source": [
    " "
   ]
  },
  {
   "cell_type": "markdown",
   "metadata": {},
   "source": [
    "## 2. CNN 모델 구조 설계\n",
    "#### >>>>>> [주의!] <font color=red>1번 문제의 Spectrogram 결과</font>가 아닌 <font color=blue>실습데이터</font>를 이용\n",
    "#### >>>>>> Layer 순서 : Convolution - MaxPooling - Convolution - MaxPooling - Convolution - GlobalAveragePooling - Output\n",
    "#### >>>>>> Convolution Layer 1 : 5 by 5의 filter 4개를 2칸씩 이동하며 특징 추출 (padding 사용)\n",
    "#### >>>>>> MaxPolling   Layer 1 : 2 by 2 pool을 2칸씩 이동하며 subsampling\n",
    "#### >>>>>> Convolution Layer 2 : 5 by 5의 filter 16개를 1칸씩 이동하며 특징 추출 (padding 사용 X)\n",
    "#### >>>>>> MaxPolling   Layer 2 : 2 by 2 pool을 2칸씩 이동하며 subsampling\n",
    "#### >>>>>> Convolution Layer 3 : 3 by 3의 filter 64개를 1칸씩 이동하며 특징 추출 (padding 사용)\n",
    "#### >>>>>> Output Layer : Output은 정상 / 고장 두 개의 클래스로 출력\n",
    "#### >>>>>> model.summary() 함수를 이용해 출력된 값을 캡처한 이미지 파일 제출 (이미지 파일 확장자는 jpg 또는 png)\n",
    "#### >>>>>> 이미지 파일 이름 : <font color=blue>ST(수강생 번호)_summary  (예시 : 'ST00_summary.jpg'  //  'ST0_summary.png')</font>"
   ]
  },
  {
   "cell_type": "markdown",
   "metadata": {},
   "source": [
    "## ***** 3가지의 Spectrogram과 이미지 파일을 하나의 zip파일로 압축하여 제출\n",
    "### >>> 압축파일 이름 :  <font color=blue>ST(수강생 번호)_HW4 (예시 : 'ST00_HW4.zip'  //  'ST0_HW4.zip')</font>\n",
    "### >>> 압축파일 이름 중 'ST', 'HW' 등 영어는 모두 대문자"
   ]
  },
  {
   "cell_type": "markdown",
   "metadata": {},
   "source": [
    ".\n",
    "\n",
    ".\n",
    "\n",
    "."
   ]
  },
  {
   "cell_type": "code",
   "execution_count": 5,
   "metadata": {},
   "outputs": [],
   "source": [
    "def CNN_model(input_data):\n",
    "    model = keras.Sequential()\n",
    "    model.add(keras.layers.Conv2D(4, kernel_size=(5,5), strides=(2, 2), padding='same', activation='relu',\n",
    "                                  input_shape=(input_data.shape[1],input_data.shape[2],input_data.shape[3]))) # Convolution layer 1\n",
    "    \n",
    "    model.add(keras.layers.MaxPooling2D(pool_size = (2, 2), strides=(2, 2)))                                  # Pooling layer 1\n",
    "    \n",
    "    model.add(keras.layers.Conv2D(16, kernel_size=(5,5), strides=(1, 1), activation='relu'))   # Convolution layer 2\n",
    "    \n",
    "    model.add(keras.layers.MaxPooling2D(pool_size = (2,2), strides = (2, 2)))                                 # Pooling layer 2\n",
    "    \n",
    "    model.add(keras.layers.Conv2D(64, kernel_size=(3,3), strides=(1, 1), padding = 'same', activation='relu'))  # Convolution layer 3\n",
    "    \n",
    "    model.add(keras.layers.GlobalAveragePooling2D())                                                          # Global Average Pooling\n",
    "    \n",
    "    model.add(keras.layers.Dense(units = 2, activation='softmax'))                                            # Output Layer\n",
    "\n",
    "    \n",
    "    model.compile(optimizer= keras.optimizers.Adam(learning_rate = learningRate),\n",
    "                  loss=keras.losses.categorical_crossentropy,\n",
    "                  metrics=['accuracy'])\n",
    "    \n",
    "    return model"
   ]
  },
  {
   "cell_type": "code",
   "execution_count": 6,
   "metadata": {},
   "outputs": [],
   "source": [
    "import pandas as pd\n",
    "import numpy as np\n",
    "import matplotlib.pyplot as plt\n",
    "from scipy import signal\n",
    "import tensorflow as tf\n",
    "from tensorflow import keras\n",
    "\n",
    "Fold       = 5\n",
    "Fs         = 12800  # Sampling Frequency\n",
    "NoOfSensor = 1\n",
    "\n",
    "\n",
    "# k-fold 학습/검증 데이터\n",
    "for i in range(Fold):\n",
    "    \n",
    "    path1 = './K_FoldData/CNN_Training_Fold%d'%(i+1)\n",
    "    path2 = './K_FoldData/CNN_Validation_Fold%d'%(i+1)\n",
    "    c1 = 'temp_Training_Fold%d   = np.array(pd.read_csv(path1, sep=\",\", header=None))'%(i+1)\n",
    "    c2 = 'temp_Validation_Fold%d = np.array(pd.read_csv(path2, sep=\",\", header=None))'%(i+1)\n",
    "    exec(c1)\n",
    "    exec(c2)\n",
    "\n",
    "# K-fold 학습/검증 레이블\n",
    "TrainingFold_Label   = np.array(pd.read_csv('./K_FoldData/TrainingFold_Label_forANN'  , sep=\",\", header=None))\n",
    "ValidationFold_Label = np.array(pd.read_csv('./K_FoldData/ValidationFold_Label_forANN', sep=\",\", header=None))\n",
    "    \n",
    "    \n",
    "# 전체 학습용 데이터\n",
    "temp_Training_All  = np.array(pd.read_csv('./K_FoldData/CNN_Training_All', sep = \",\", header = None))\n",
    "Training_All_Label = np.array(pd.read_csv('./K_FoldData/Training_All_Label_forANN', sep = \",\", header = None))\n",
    "\n",
    "\n",
    "# STFT test\n",
    "\n",
    "f,t,Sxx = signal.spectrogram(temp_Training_All, Fs, nperseg=78)\n",
    "\n",
    "# Data Reshape for CNN\n",
    "Training_All = Sxx.reshape(Sxx.shape[0], Sxx.shape[1], Sxx.shape[2], NoOfSensor)\n",
    "\n",
    "for i in range(Fold):\n",
    "    s1 = 'f,t,Sxx1 = signal.spectrogram(temp_Training_Fold%d, Fs, nperseg=78)'   %(i+1)\n",
    "    s2 = 'f,t,Sxx2 = signal.spectrogram(temp_Validation_Fold%d, Fs, nperseg=78)' %(i+1)\n",
    "    exec(s1)\n",
    "    exec(s2)\n",
    "    \n",
    "    s3 = 'Training_Fold%d   = Sxx1.reshape(Sxx1.shape[0], Sxx1.shape[1], Sxx1.shape[2], NoOfSensor)' %(i+1)\n",
    "    s4 = 'Validation_Fold%d = Sxx2.reshape(Sxx2.shape[0], Sxx2.shape[1], Sxx2.shape[2], NoOfSensor)' %(i+1)\n",
    "    exec(s3)\n",
    "    exec(s4)\n",
    "\n",
    "\n",
    "\n",
    "learningRate  = 0.0001\n",
    "iteration     = 1000\n"
   ]
  },
  {
   "cell_type": "code",
   "execution_count": 9,
   "metadata": {},
   "outputs": [
    {
     "name": "stdout",
     "output_type": "stream",
     "text": [
      "Model: \"sequential_3\"\n",
      "_________________________________________________________________\n",
      "Layer (type)                 Output Shape              Param #   \n",
      "=================================================================\n",
      "conv2d_9 (Conv2D)            (None, 20, 20, 4)         104       \n",
      "_________________________________________________________________\n",
      "max_pooling2d_6 (MaxPooling2 (None, 10, 10, 4)         0         \n",
      "_________________________________________________________________\n",
      "conv2d_10 (Conv2D)           (None, 6, 6, 16)          1616      \n",
      "_________________________________________________________________\n",
      "max_pooling2d_7 (MaxPooling2 (None, 3, 3, 16)          0         \n",
      "_________________________________________________________________\n",
      "conv2d_11 (Conv2D)           (None, 3, 3, 64)          9280      \n",
      "_________________________________________________________________\n",
      "global_average_pooling2d_3 ( (None, 64)                0         \n",
      "_________________________________________________________________\n",
      "dense_3 (Dense)              (None, 2)                 130       \n",
      "=================================================================\n",
      "Total params: 11,130\n",
      "Trainable params: 11,130\n",
      "Non-trainable params: 0\n",
      "_________________________________________________________________\n"
     ]
    }
   ],
   "source": [
    "CNN_model(Training_Fold1).summary()"
   ]
  },
  {
   "cell_type": "code",
   "execution_count": null,
   "metadata": {},
   "outputs": [],
   "source": []
  }
 ],
 "metadata": {
  "kernelspec": {
   "display_name": "Python 3",
   "language": "python",
   "name": "python3"
  },
  "language_info": {
   "codemirror_mode": {
    "name": "ipython",
    "version": 3
   },
   "file_extension": ".py",
   "mimetype": "text/x-python",
   "name": "python",
   "nbconvert_exporter": "python",
   "pygments_lexer": "ipython3",
   "version": "3.7.4"
  }
 },
 "nbformat": 4,
 "nbformat_minor": 4
}
